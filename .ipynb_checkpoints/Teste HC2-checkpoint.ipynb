{
 "cells": [
  {
   "cell_type": "code",
   "execution_count": null,
   "id": "aa9f2ad8",
   "metadata": {},
   "outputs": [],
   "source": [
    "%pip install sktime\n",
    "%pip install numpy=1.20"
   ]
  },
  {
   "cell_type": "code",
   "execution_count": null,
   "id": "3022fb57",
   "metadata": {},
   "outputs": [],
   "source": [
    "import numpy as np\n",
    "import pandas as pd\n",
    "import timeit\n",
    "from sklearn.model_selection import RepeatedKFold\n",
    "from sklearn.metrics import accuracy_score\n",
    "from sklearn.metrics import precision_score\n",
    "from sklearn.metrics import recall_score\n",
    "from sklearn.metrics import f1_score\n",
    "import tensorflow as tf\n",
    "from pickle import dump\n",
    "\n",
    "from sktime.classification.hybrid import HIVECOTEV2\n",
    "from sktime.datasets import load_from_arff_to_dataframe as load_arff\n",
    "#numpy.version.version"
   ]
  },
  {
   "cell_type": "code",
   "execution_count": null,
   "id": "b58bb0cf",
   "metadata": {},
   "outputs": [],
   "source": [
    "device_name = tf.test.gpu_device_name()\n",
    "if device_name != '/device:GPU:0':\n",
    "  raise SystemError('GPU device not found')\n",
    "print('Found GPU at: {}'.format(device_name))"
   ]
  },
  {
   "cell_type": "code",
   "execution_count": null,
   "id": "f5b5e22e",
   "metadata": {},
   "outputs": [],
   "source": [
    "device_name = tf.test.gpu_device_name()\n",
    "if device_name != '/device:GPU:0':\n",
    "  print(\n",
    "      '\\n\\nThis error most likely means that this notebook is not '\n",
    "      'configured to use a GPU.  Change this in Notebook Settings via the '\n",
    "      'command palette (cmd/ctrl-shift-P) or the Edit menu.\\n\\n')\n",
    "  raise SystemError('GPU device not found')"
   ]
  },
  {
   "cell_type": "code",
   "execution_count": null,
   "id": "78f5c1a7",
   "metadata": {},
   "outputs": [],
   "source": [
    "from sklearn.model_selection import TimeSeriesSplit\n",
    "tscv = TimeSeriesSplit()\n",
    "print(tscv)\n",
    "TimeSeriesSplit(max_train_size=None, n_splits=3)\n",
    "X, y = load_arff(\"AllCandidasCollectReduced.arff\")\n",
    "for train_index, test_index in tscv.split(X):\n",
    "    print(\"TRAIN:\", train_index, \"TEST:\", test_index)\n",
    "    X_train, X_test = X.iloc[train_index], X.iloc[test_index]\n",
    "    y_train, y_test = y[train_index], y[test_index]\n",
    "    print(f\"X train data: {X_train}\")\n",
    "    print(f\"Y train data: {y_train}\")"
   ]
  },
  {
   "cell_type": "code",
   "execution_count": null,
   "id": "c710b773",
   "metadata": {},
   "outputs": [],
   "source": [
    "#if __name__ == \"__main__\":\n",
    "    # Load data\n",
    "def gpu():\n",
    "  with tf.device('/device:GPU:0'):\n",
    "    res = pd.DataFrame(data=np.zeros((1, 5), dtype=np.float), index=[0],\n",
    "                       columns=['precision', 'accuracy', 'recall','f1_score','cross_validation_score'])\n",
    "    X_train, y_train = load_arff(\"AllCandidas_TRAIN_2.arff\")\n",
    "    X_test, y_test = load_arff(\"AllCandidas_TEST_2.arff\")\n",
    "    X_train.head()\n",
    "    print(y_train[0:5])\n",
    "    print(y_test[0:5])\n",
    "    # Fit HC2\n",
    "    print(\"Treining HC2...\")\n",
    "    HC2 = HIVECOTEV2(verbose=10)\n",
    "    #HC2.fit(X_train, y_train)\n",
    "    print(\"In prediction...\")\n",
    "    # Predict and print accuracy\n",
    "   # predictions = HC2.predict(X_test)\n",
    "    res['accuracy'] = cross_val_score(HC2, X_test, y_test, cv=3,scoring='accuracy')\n",
    "    res['precision'] = cross_val_score(HC2, X_test, y_test, cv=3,scoring='precision')\n",
    "    res['recall'] = cross_val_score(HC2, X_test, y_test, cv=3,scoring='recall')\n",
    "    res['f1_score'] = cross_val_score(HC2, X_test, y_test, cv=3,scoring='f1')\n",
    "    return res , HC2\n",
    "df_metrics, HC2_model = gpu()"
   ]
  },
  {
   "cell_type": "code",
   "execution_count": null,
   "id": "f263fd74",
   "metadata": {},
   "outputs": [],
   "source": [
    "#save metrics\n",
    "print(\"Saving metrics...\")\n",
    "df_metrics.to_csv('results/'+ 'df_metrics_HC2.csv', index=False)\n",
    "#save the model\n",
    "print(\"Saving model...\")\n",
    "dump(hc2_model, open('results/'+'hc2_model.pkl', 'wb'))\n",
    "dump(hc1_model, open('results/'+'hc1_model.pkl', 'wb'))\n",
    "\n",
    "print(\"Metrics of model:\")\n",
    "df_metrics"
   ]
  },
  {
   "cell_type": "code",
   "execution_count": null,
   "id": "7a9dae08",
   "metadata": {},
   "outputs": [],
   "source": [
    "print('GPU (s):')\n",
    "gpu_time = timeit.timeit('gpu()', number=10, setup=\"from __main__ import gpu\")\n",
    "print(gpu_time)\n",
    "print('GPU speedup over CPU: {}x'.format(int(cpu_time/gpu_time)))"
   ]
  },
  {
   "cell_type": "code",
   "execution_count": null,
   "id": "076f1eff",
   "metadata": {},
   "outputs": [],
   "source": []
  },
  {
   "cell_type": "code",
   "execution_count": null,
   "id": "748420fb",
   "metadata": {},
   "outputs": [],
   "source": []
  }
 ],
 "metadata": {
  "kernelspec": {
   "display_name": "Python 3 (ipykernel)",
   "language": "python",
   "name": "python3"
  },
  "language_info": {
   "codemirror_mode": {
    "name": "ipython",
    "version": 3
   },
   "file_extension": ".py",
   "mimetype": "text/x-python",
   "name": "python",
   "nbconvert_exporter": "python",
   "pygments_lexer": "ipython3",
   "version": "3.9.7"
  }
 },
 "nbformat": 4,
 "nbformat_minor": 5
}
