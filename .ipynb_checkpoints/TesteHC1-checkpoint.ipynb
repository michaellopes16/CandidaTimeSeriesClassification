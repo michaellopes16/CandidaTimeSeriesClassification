{
 "cells": [
  {
   "cell_type": "code",
   "execution_count": 1,
   "id": "762abf0c",
   "metadata": {},
   "outputs": [
    {
     "name": "stdout",
     "output_type": "stream",
     "text": [
      "Requirement already satisfied: sktime in d:\\pessoais\\anacondafiles\\envs\\teste_with_gpu\\lib\\site-packages (0.10.1)\n",
      "Requirement already satisfied: scikit-learn>=0.24.0 in d:\\pessoais\\anacondafiles\\envs\\teste_with_gpu\\lib\\site-packages (from sktime) (1.0.2)\n",
      "Requirement already satisfied: numba>=0.53 in d:\\pessoais\\anacondafiles\\envs\\teste_with_gpu\\lib\\site-packages (from sktime) (0.55.1)\n",
      "Requirement already satisfied: pandas<1.5.0,>=1.1.0 in d:\\pessoais\\anacondafiles\\envs\\teste_with_gpu\\lib\\site-packages (from sktime) (1.4.1)\n",
      "Requirement already satisfied: numpy<1.22,>=1.21.0 in d:\\pessoais\\anacondafiles\\envs\\teste_with_gpu\\lib\\site-packages (from sktime) (1.21.5)\n",
      "Requirement already satisfied: deprecated>=1.2.13 in d:\\pessoais\\anacondafiles\\envs\\teste_with_gpu\\lib\\site-packages (from sktime) (1.2.13)\n",
      "Requirement already satisfied: scipy<1.8.0 in d:\\pessoais\\anacondafiles\\envs\\teste_with_gpu\\lib\\site-packages (from sktime) (1.7.3)\n",
      "Requirement already satisfied: statsmodels>=0.12.1 in d:\\pessoais\\anacondafiles\\envs\\teste_with_gpu\\lib\\site-packages (from sktime) (0.13.2)\n",
      "Requirement already satisfied: wrapt<2,>=1.10 in d:\\pessoais\\anacondafiles\\envs\\teste_with_gpu\\lib\\site-packages (from deprecated>=1.2.13->sktime) (1.13.3)\n",
      "Requirement already satisfied: setuptools in d:\\pessoais\\anacondafiles\\envs\\teste_with_gpu\\lib\\site-packages (from numba>=0.53->sktime) (58.0.4)\n",
      "Requirement already satisfied: llvmlite<0.39,>=0.38.0rc1 in d:\\pessoais\\anacondafiles\\envs\\teste_with_gpu\\lib\\site-packages (from numba>=0.53->sktime) (0.38.0)\n",
      "Requirement already satisfied: python-dateutil>=2.8.1 in d:\\pessoais\\anacondafiles\\envs\\teste_with_gpu\\lib\\site-packages (from pandas<1.5.0,>=1.1.0->sktime) (2.8.2)\n",
      "Requirement already satisfied: pytz>=2020.1 in d:\\pessoais\\anacondafiles\\envs\\teste_with_gpu\\lib\\site-packages (from pandas<1.5.0,>=1.1.0->sktime) (2021.3)\n",
      "Requirement already satisfied: six>=1.5 in d:\\pessoais\\anacondafiles\\envs\\teste_with_gpu\\lib\\site-packages (from python-dateutil>=2.8.1->pandas<1.5.0,>=1.1.0->sktime) (1.16.0)\n",
      "Requirement already satisfied: threadpoolctl>=2.0.0 in d:\\pessoais\\anacondafiles\\envs\\teste_with_gpu\\lib\\site-packages (from scikit-learn>=0.24.0->sktime) (3.1.0)\n",
      "Requirement already satisfied: joblib>=0.11 in d:\\pessoais\\anacondafiles\\envs\\teste_with_gpu\\lib\\site-packages (from scikit-learn>=0.24.0->sktime) (1.1.0)\n",
      "Requirement already satisfied: packaging>=21.3 in d:\\pessoais\\anacondafiles\\envs\\teste_with_gpu\\lib\\site-packages (from statsmodels>=0.12.1->sktime) (21.3)\n",
      "Requirement already satisfied: patsy>=0.5.2 in d:\\pessoais\\anacondafiles\\envs\\teste_with_gpu\\lib\\site-packages (from statsmodels>=0.12.1->sktime) (0.5.2)\n",
      "Requirement already satisfied: pyparsing!=3.0.5,>=2.0.2 in d:\\pessoais\\anacondafiles\\envs\\teste_with_gpu\\lib\\site-packages (from packaging>=21.3->statsmodels>=0.12.1->sktime) (3.0.4)\n",
      "Note: you may need to restart the kernel to use updated packages.\n",
      "Note: you may need to restart the kernel to use updated packages.\n"
     ]
    },
    {
     "name": "stderr",
     "output_type": "stream",
     "text": [
      "ERROR: Invalid requirement: 'numpy=1.20'\n",
      "Hint: = is not a valid operator. Did you mean == ?\n"
     ]
    }
   ],
   "source": [
    "%pip install sktime\n",
    "%pip install numpy=1.20"
   ]
  },
  {
   "cell_type": "code",
   "execution_count": 2,
   "id": "e1c7eb1a",
   "metadata": {},
   "outputs": [
    {
     "name": "stdout",
     "output_type": "stream",
     "text": [
      "Found GPU at: /device:GPU:0\n"
     ]
    }
   ],
   "source": [
    "#%tensorflow_version 2.x\n",
    "import tensorflow as tf\n",
    "device_name = tf.test.gpu_device_name()\n",
    "if device_name != '/device:GPU:0':\n",
    "  raise SystemError('GPU device not found')\n",
    "print('Found GPU at: {}'.format(device_name))"
   ]
  },
  {
   "cell_type": "code",
   "execution_count": 3,
   "id": "c6be9aa4",
   "metadata": {},
   "outputs": [
    {
     "name": "stderr",
     "output_type": "stream",
     "text": [
      "D:\\Pessoais\\AnacondaFiles\\envs\\teste_with_gpu\\lib\\site-packages\\sktime\\datatypes\\_series\\_check.py:43: FutureWarning: pandas.Int64Index is deprecated and will be removed from pandas in a future version. Use pandas.Index with the appropriate dtype instead.\n",
      "  VALID_INDEX_TYPES = (pd.Int64Index, pd.RangeIndex, pd.PeriodIndex, pd.DatetimeIndex)\n",
      "D:\\Pessoais\\AnacondaFiles\\envs\\teste_with_gpu\\lib\\site-packages\\sktime\\datatypes\\_hierarchical\\_check.py:50: FutureWarning: pandas.Int64Index is deprecated and will be removed from pandas in a future version. Use pandas.Index with the appropriate dtype instead.\n",
      "  VALID_INDEX_TYPES = (pd.Int64Index, pd.RangeIndex, pd.PeriodIndex, pd.DatetimeIndex)\n",
      "D:\\Pessoais\\AnacondaFiles\\envs\\teste_with_gpu\\lib\\site-packages\\sktime\\datatypes\\_hierarchical\\_check.py:51: FutureWarning: pandas.Int64Index is deprecated and will be removed from pandas in a future version. Use pandas.Index with the appropriate dtype instead.\n",
      "  VALID_MULTIINDEX_TYPES = (pd.Int64Index, pd.RangeIndex)\n",
      "D:\\Pessoais\\AnacondaFiles\\envs\\teste_with_gpu\\lib\\site-packages\\sktime\\datatypes\\_panel\\_check.py:48: FutureWarning: pandas.Int64Index is deprecated and will be removed from pandas in a future version. Use pandas.Index with the appropriate dtype instead.\n",
      "  VALID_INDEX_TYPES = (pd.Int64Index, pd.RangeIndex, pd.PeriodIndex, pd.DatetimeIndex)\n",
      "D:\\Pessoais\\AnacondaFiles\\envs\\teste_with_gpu\\lib\\site-packages\\sktime\\datatypes\\_panel\\_check.py:49: FutureWarning: pandas.Int64Index is deprecated and will be removed from pandas in a future version. Use pandas.Index with the appropriate dtype instead.\n",
      "  VALID_MULTIINDEX_TYPES = (pd.Int64Index, pd.RangeIndex)\n"
     ]
    }
   ],
   "source": [
    "from sklearn.metrics import accuracy_score\n",
    "from sktime.classification.hybrid import HIVECOTEV1\n",
    "from sktime.datasets import load_from_arff_to_dataframe as load_arff"
   ]
  },
  {
   "cell_type": "code",
   "execution_count": 4,
   "id": "850b1734",
   "metadata": {},
   "outputs": [],
   "source": [
    "device_name = tf.test.gpu_device_name()\n",
    "if device_name != '/device:GPU:0':\n",
    "  print(\n",
    "      '\\n\\nThis error most likely means that this notebook is not '\n",
    "      'configured to use a GPU.  Change this in Notebook Settings via the '\n",
    "      'command palette (cmd/ctrl-shift-P) or the Edit menu.\\n\\n')\n",
    "  raise SystemError('GPU device not found')"
   ]
  },
  {
   "cell_type": "code",
   "execution_count": null,
   "id": "3d44a325",
   "metadata": {},
   "outputs": [
    {
     "name": "stdout",
     "output_type": "stream",
     "text": [
      "['6' '5' '1' '1' '5']\n",
      "['6' '2' '3' '2' '1']\n",
      "Treining HC1...\n"
     ]
    }
   ],
   "source": [
    "def gpu():\n",
    "  with tf.device('/device:GPU:0'):\n",
    "    X_train, y_train = load_arff(\"AllCandidas_TRAIN_2.arff\")\n",
    "    X_test, y_test = load_arff(\"AllCandidas_TEST_2.arff\")\n",
    "    X_train.head()\n",
    "    print(y_train[0:5])\n",
    "    print(y_test[0:5])\n",
    "    # Fit HC2\n",
    "    print(\"Treining HC1...\")\n",
    "    hc2 = HIVECOTEV1(verbose=1)\n",
    "    hc2.fit(X_train, y_train)\n",
    "    print(\"In prediction...\")\n",
    "    # Predict and print accuracy\n",
    "    predictions = hc2.predict(X_test)\n",
    "    return accuracy_score(y_test, predictions)\n",
    "acc = gpu()\n",
    "print(f\"Accuracy of model:{acc}\")"
   ]
  },
  {
   "cell_type": "code",
   "execution_count": null,
   "id": "6ca5ac34",
   "metadata": {},
   "outputs": [],
   "source": [
    "print('GPU (s):')\n",
    "gpu_time = timeit.timeit('gpu()', number=10, setup=\"from __main__ import gpu\")\n",
    "print(gpu_time)\n",
    "print('GPU speedup over CPU: {}x'.format(int(cpu_time/gpu_time)))"
   ]
  },
  {
   "cell_type": "code",
   "execution_count": null,
   "id": "368af0be",
   "metadata": {},
   "outputs": [],
   "source": []
  }
 ],
 "metadata": {
  "kernelspec": {
   "display_name": "Python 3 (ipykernel)",
   "language": "python",
   "name": "python3"
  },
  "language_info": {
   "codemirror_mode": {
    "name": "ipython",
    "version": 3
   },
   "file_extension": ".py",
   "mimetype": "text/x-python",
   "name": "python",
   "nbconvert_exporter": "python",
   "pygments_lexer": "ipython3",
   "version": "3.9.7"
  }
 },
 "nbformat": 4,
 "nbformat_minor": 5
}
