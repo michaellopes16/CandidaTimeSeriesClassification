{
 "cells": [
  {
   "cell_type": "code",
   "execution_count": 1,
   "id": "aa9f2ad8",
   "metadata": {},
   "outputs": [
    {
     "name": "stdout",
     "output_type": "stream",
     "text": [
      "Collecting sktime==0.11.3Note: you may need to restart the kernel to use updated packages.\n",
      "\n",
      "  Using cached sktime-0.11.3-py3-none-any.whl (6.7 MB)\n",
      "Requirement already satisfied: deprecated>=1.2.13 in d:\\pessoais\\anacondafiles\\envs\\teste_with_gpu\\lib\\site-packages (from sktime==0.11.3) (1.2.13)\n"
     ]
    },
    {
     "name": "stderr",
     "output_type": "stream",
     "text": [
      "WARNING: Ignoring invalid distribution -ktime (d:\\pessoais\\anacondafiles\\envs\\teste_with_gpu\\lib\\site-packages)\n",
      "WARNING: Ignoring invalid distribution -ktime (d:\\pessoais\\anacondafiles\\envs\\teste_with_gpu\\lib\\site-packages)\n",
      "WARNING: Ignoring invalid distribution -ktime (d:\\pessoais\\anacondafiles\\envs\\teste_with_gpu\\lib\\site-packages)\n",
      "    WARNING: Ignoring invalid distribution -ktime (d:\\pessoais\\anacondafiles\\envs\\teste_with_gpu\\lib\\site-packages)\n",
      "WARNING: Ignoring invalid distribution -ktime (d:\\pessoais\\anacondafiles\\envs\\teste_with_gpu\\lib\\site-packages)\n",
      "WARNING: Ignoring invalid distribution -ktime (d:\\pessoais\\anacondafiles\\envs\\teste_with_gpu\\lib\\site-packages)\n",
      "WARNING: Ignoring invalid distribution -ktime (d:\\pessoais\\anacondafiles\\envs\\teste_with_gpu\\lib\\site-packages)\n",
      "WARNING: Ignoring invalid distribution -ktime (d:\\pessoais\\anacondafiles\\envs\\teste_with_gpu\\lib\\site-packages)\n"
     ]
    },
    {
     "name": "stdout",
     "output_type": "stream",
     "text": [
      "Requirement already satisfied: numpy<1.22,>=1.21.0 in d:\\pessoais\\anacondafiles\\envs\\teste_with_gpu\\lib\\site-packages (from sktime==0.11.3) (1.21.5)\n",
      "Requirement already satisfied: scikit-learn>=0.24.0 in d:\\pessoais\\anacondafiles\\envs\\teste_with_gpu\\lib\\site-packages (from sktime==0.11.3) (1.0.2)\n",
      "Requirement already satisfied: pandas<1.5.0,>=1.1.0 in d:\\pessoais\\anacondafiles\\envs\\teste_with_gpu\\lib\\site-packages (from sktime==0.11.3) (1.4.1)\n",
      "Requirement already satisfied: scipy<1.9.0 in d:\\pessoais\\anacondafiles\\envs\\teste_with_gpu\\lib\\site-packages (from sktime==0.11.3) (1.7.3)\n",
      "Requirement already satisfied: numba>=0.53 in d:\\pessoais\\anacondafiles\\envs\\teste_with_gpu\\lib\\site-packages (from sktime==0.11.3) (0.53.0)\n",
      "Requirement already satisfied: statsmodels>=0.12.1 in d:\\pessoais\\anacondafiles\\envs\\teste_with_gpu\\lib\\site-packages (from sktime==0.11.3) (0.13.2)\n",
      "Requirement already satisfied: wrapt<2,>=1.10 in d:\\pessoais\\anacondafiles\\envs\\teste_with_gpu\\lib\\site-packages (from deprecated>=1.2.13->sktime==0.11.3) (1.13.3)\n",
      "Requirement already satisfied: llvmlite<0.37,>=0.36.0rc1 in d:\\pessoais\\anacondafiles\\envs\\teste_with_gpu\\lib\\site-packages (from numba>=0.53->sktime==0.11.3) (0.36.0)\n",
      "Requirement already satisfied: setuptools in d:\\pessoais\\anacondafiles\\envs\\teste_with_gpu\\lib\\site-packages (from numba>=0.53->sktime==0.11.3) (58.0.4)\n",
      "Requirement already satisfied: pytz>=2020.1 in d:\\pessoais\\anacondafiles\\envs\\teste_with_gpu\\lib\\site-packages (from pandas<1.5.0,>=1.1.0->sktime==0.11.3) (2022.1)\n",
      "Requirement already satisfied: python-dateutil>=2.8.1 in d:\\pessoais\\anacondafiles\\envs\\teste_with_gpu\\lib\\site-packages (from pandas<1.5.0,>=1.1.0->sktime==0.11.3) (2.8.2)\n",
      "Requirement already satisfied: six>=1.5 in d:\\pessoais\\anacondafiles\\envs\\teste_with_gpu\\lib\\site-packages (from python-dateutil>=2.8.1->pandas<1.5.0,>=1.1.0->sktime==0.11.3) (1.16.0)\n",
      "Requirement already satisfied: joblib>=0.11 in d:\\pessoais\\anacondafiles\\envs\\teste_with_gpu\\lib\\site-packages (from scikit-learn>=0.24.0->sktime==0.11.3) (1.1.0)\n",
      "Requirement already satisfied: threadpoolctl>=2.0.0 in d:\\pessoais\\anacondafiles\\envs\\teste_with_gpu\\lib\\site-packages (from scikit-learn>=0.24.0->sktime==0.11.3) (3.1.0)\n",
      "Requirement already satisfied: packaging>=21.3 in d:\\pessoais\\anacondafiles\\envs\\teste_with_gpu\\lib\\site-packages (from statsmodels>=0.12.1->sktime==0.11.3) (21.3)\n",
      "Requirement already satisfied: patsy>=0.5.2 in d:\\pessoais\\anacondafiles\\envs\\teste_with_gpu\\lib\\site-packages (from statsmodels>=0.12.1->sktime==0.11.3) (0.5.2)\n",
      "Requirement already satisfied: pyparsing!=3.0.5,>=2.0.2 in d:\\pessoais\\anacondafiles\\envs\\teste_with_gpu\\lib\\site-packages (from packaging>=21.3->statsmodels>=0.12.1->sktime==0.11.3) (3.0.4)\n",
      "Installing collected packages: sktime\n",
      "  Attempting uninstall: sktime\n",
      "    Found existing installation: sktime 0.11.2\n",
      "    Uninstalling sktime-0.11.2:\n",
      "      Successfully uninstalled sktime-0.11.2\n",
      "Successfully installed sktime-0.11.3\n"
     ]
    }
   ],
   "source": [
    "%pip install sktime==0.11.3"
   ]
  },
  {
   "cell_type": "code",
   "execution_count": 2,
   "id": "3022fb57",
   "metadata": {},
   "outputs": [],
   "source": [
    "import numpy as np\n",
    "import pandas as pd\n",
    "import timeit\n",
    "from sklearn.metrics import accuracy_score\n",
    "from sklearn.metrics import precision_score\n",
    "from sklearn.metrics import recall_score\n",
    "from sklearn.metrics import f1_score\n",
    "import tensorflow as tf\n",
    "from pickle import dump\n",
    "\n",
    "from sktime.classification.distance_based import ProximityForest\n",
    "from sktime.datasets import load_from_arff_to_dataframe as load_arff\n",
    "#numpy.version.version"
   ]
  },
  {
   "cell_type": "code",
   "execution_count": 3,
   "id": "b58bb0cf",
   "metadata": {},
   "outputs": [
    {
     "name": "stdout",
     "output_type": "stream",
     "text": [
      "Found GPU at: /device:GPU:0\n"
     ]
    }
   ],
   "source": [
    "device_name = tf.test.gpu_device_name()\n",
    "if device_name != '/device:GPU:0':\n",
    "  raise SystemError('GPU device not found')\n",
    "print('Found GPU at: {}'.format(device_name))"
   ]
  },
  {
   "cell_type": "code",
   "execution_count": 4,
   "id": "f5b5e22e",
   "metadata": {},
   "outputs": [],
   "source": [
    "device_name = tf.test.gpu_device_name()\n",
    "if device_name != '/device:GPU:0':\n",
    "  print(\n",
    "      '\\n\\nThis error most likely means that this notebook is not '\n",
    "      'configured to use a GPU.  Change this in Notebook Settings via the '\n",
    "      'command palette (cmd/ctrl-shift-P) or the Edit menu.\\n\\n')\n",
    "  raise SystemError('GPU device not found')"
   ]
  },
  {
   "cell_type": "code",
   "execution_count": 5,
   "id": "c710b773",
   "metadata": {},
   "outputs": [
    {
     "name": "stdout",
     "output_type": "stream",
     "text": [
      "(12256, 1)\n",
      "<class 'pandas.core.frame.DataFrame'>\n"
     ]
    }
   ],
   "source": [
    "from sklearn.model_selection import KFold\n",
    "kf = KFold(n_splits=10)\n",
    "X, y = load_arff(\"AllCandidas_TRAIN_V2.arff\")\n",
    "print(np.shape(X))\n",
    "print(type(X))\n",
    "precision = []\n",
    "accuracy = []\n",
    "f1 = []\n",
    "recall = []\n",
    "def gpu(X, y, kf):\n",
    "  with tf.device('/device:GPU:0'):\n",
    "    i= 0\n",
    "    for train_index, test_index in kf.split(X):\n",
    "        #print(\"TRAIN:\", train_index, \"TEST:\", test_index)    \n",
    "        X_train, X_test = X.iloc[train_index], X.iloc[test_index]\n",
    "        y_train, y_test = y[train_index], y[test_index]\n",
    "        #print(X_train.head())\n",
    "        #print(type(X_train))\n",
    "        print(\"Treining PF...\")\n",
    "        PF =     ProximityForest(n_estimators=50)\n",
    "        print(f\"Interaction {i}\")\n",
    "        print(\"In trainning...\")\n",
    "        PF.fit(X_train, y_train)\n",
    "        print(\"In prediction...\")\n",
    "        i=i+1\n",
    "        \n",
    "        # Predict and print accuracy\n",
    "        predictions = PF.predict(X_test)\n",
    "        precision.append(precision_score(y_test, predictions, average='macro',zero_division=1))\n",
    "        accuracy.append(accuracy_score(y_test, predictions))\n",
    "        recall.append(recall_score(y_test, predictions, average='macro',zero_division=1))\n",
    "        f1.append(f1_score(y_test, predictions, average='macro'))\n",
    "        #print(\"In prediction...\")\n",
    "        # Predict and print accuracy\n",
    "       # predictions = HC2.predict(X_test)\n",
    "    print(type(X_train))\n",
    "    print(np.shape(X_train))\n",
    "    print(f\"Precision: {np.mean(precision)}, Accuracy:{np.mean(accuracy)}, Recall: {np.mean(recall)}, F1: {np.mean(f1)}\")\n",
    "    return np.mean(precision), np.mean(accuracy), np.mean(recall), np.mean(f1), np.std(accuracy), PF"
   ]
  },
  {
   "cell_type": "code",
   "execution_count": null,
   "id": "bd084138",
   "metadata": {},
   "outputs": [
    {
     "name": "stdout",
     "output_type": "stream",
     "text": [
      "Using MirroredStrategy\n",
      "INFO:tensorflow:Using MirroredStrategy with devices ('/job:localhost/replica:0/task:0/device:GPU:0',)\n",
      "MirroredVariable:{\n",
      "  0: <tf.Variable 'Variable:0' shape=() dtype=float32, numpy=1.0>\n",
      "}\n",
      "Treining PF...\n",
      "Interaction 0\n",
      "In trainning...\n"
     ]
    }
   ],
   "source": [
    "if tf.config.list_physical_devices('GPU'):\n",
    "  print(\"Using MirroredStrategy\")\n",
    "  strategy = tf.distribute.MirroredStrategy()\n",
    "else:  # Use the Default Strategy\n",
    "  print(\"Using Default Strategy\")\n",
    "  strategy = tf.distribute.get_strategy()\n",
    "\n",
    "with strategy.scope():\n",
    "  # Do something interesting\n",
    "  print(tf.Variable(1.))\n",
    "  precision, accuracy, recall, f1, std, PF_model = gpu(X,y,kf)"
   ]
  },
  {
   "cell_type": "code",
   "execution_count": null,
   "id": "4e52b980",
   "metadata": {},
   "outputs": [],
   "source": [
    "df_metrics = pd.DataFrame(data=np.zeros((1, 5), dtype=np.float), index=[0],\n",
    "                       columns=['precision', 'accuracy', 'recall','f1_score','std'])\n",
    "df_metrics['precision'] = precision\n",
    "df_metrics['accuracy'] = accuracy\n",
    "df_metrics['recall'] = recall\n",
    "df_metrics['f1_score'] = f1\n",
    "df_metrics['std'] = std\n",
    "df_metrics"
   ]
  },
  {
   "cell_type": "code",
   "execution_count": null,
   "id": "f263fd74",
   "metadata": {},
   "outputs": [],
   "source": [
    "#save metrics\n",
    "print(\"Saving metrics...\")\n",
    "df_metrics.to_csv('results/'+ 'df_metrics_PF.csv', index=False)\n",
    "#save the model\n",
    "print(\"Saving model...\")\n",
    "dump(PF_model, open('results/'+'PF_model.pkl', 'wb'))\n",
    "print(\"Metrics of model:\")\n",
    "df_metrics"
   ]
  },
  {
   "cell_type": "code",
   "execution_count": null,
   "id": "7a9dae08",
   "metadata": {},
   "outputs": [],
   "source": [
    "print('GPU (s):')\n",
    "gpu_time = timeit.timeit('gpu()', number=10, setup=\"from __main__ import gpu\")\n",
    "print(gpu_time)\n",
    "print('GPU speedup over CPU: {}x'.format(int(cpu_time/gpu_time)))"
   ]
  },
  {
   "cell_type": "code",
   "execution_count": null,
   "id": "076f1eff",
   "metadata": {},
   "outputs": [],
   "source": []
  },
  {
   "cell_type": "code",
   "execution_count": null,
   "id": "748420fb",
   "metadata": {},
   "outputs": [],
   "source": []
  }
 ],
 "metadata": {
  "kernelspec": {
   "display_name": "Python 3 (ipykernel)",
   "language": "python",
   "name": "python3"
  },
  "language_info": {
   "codemirror_mode": {
    "name": "ipython",
    "version": 3
   },
   "file_extension": ".py",
   "mimetype": "text/x-python",
   "name": "python",
   "nbconvert_exporter": "python",
   "pygments_lexer": "ipython3",
   "version": "3.9.7"
  }
 },
 "nbformat": 4,
 "nbformat_minor": 5
}
