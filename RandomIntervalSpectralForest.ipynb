{
 "cells": [
  {
   "cell_type": "code",
   "execution_count": 2,
   "id": "82163393",
   "metadata": {},
   "outputs": [
    {
     "name": "stdout",
     "output_type": "stream",
     "text": [
      "Collecting sktime==0.11.4Note: you may need to restart the kernel to use updated packages.\n",
      "  Using cached sktime-0.11.4-py3-none-any.whl (6.7 MB)\n",
      "Requirement already satisfied: numpy<1.22,>=1.21.0 in d:\\pessoais\\anacondafiles\\envs\\teste_with_gpu\\lib\\site-packages (from sktime==0.11.4) (1.21.5)\n",
      "Requirement already satisfied: statsmodels>=0.12.1 in d:\\pessoais\\anacondafiles\\envs\\teste_with_gpu\\lib\\site-packages (from sktime==0.11.4) (0.13.2)\n",
      "Requirement already satisfied: pandas<1.5.0,>=1.1.0 in d:\\pessoais\\anacondafiles\\envs\\teste_with_gpu\\lib\\site-packages (from sktime==0.11.4) (1.4.1)\n",
      "Requirement already satisfied: scikit-learn<1.2.0,>=0.24.0 in d:\\pessoais\\anacondafiles\\envs\\teste_with_gpu\\lib\\site-packages (from sktime==0.11.4) (1.0.2)\n",
      "Requirement already satisfied: numba>=0.53 in d:\\pessoais\\anacondafiles\\envs\\teste_with_gpu\\lib\\site-packages (from sktime==0.11.4) (0.53.0)\n",
      "Requirement already satisfied: scipy<1.9.0 in d:\\pessoais\\anacondafiles\\envs\\teste_with_gpu\\lib\\site-packages (from sktime==0.11.4) (1.7.3)\n"
     ]
    },
    {
     "name": "stderr",
     "output_type": "stream",
     "text": [
      "WARNING: Ignoring invalid distribution -ktime (d:\\pessoais\\anacondafiles\\envs\\teste_with_gpu\\lib\\site-packages)\n",
      "WARNING: Ignoring invalid distribution -ktime (d:\\pessoais\\anacondafiles\\envs\\teste_with_gpu\\lib\\site-packages)\n",
      "WARNING: Ignoring invalid distribution -ktime (d:\\pessoais\\anacondafiles\\envs\\teste_with_gpu\\lib\\site-packages)\n",
      "    WARNING: Ignoring invalid distribution -ktime (d:\\pessoais\\anacondafiles\\envs\\teste_with_gpu\\lib\\site-packages)\n",
      "WARNING: Ignoring invalid distribution -ktime (d:\\pessoais\\anacondafiles\\envs\\teste_with_gpu\\lib\\site-packages)\n",
      "WARNING: Ignoring invalid distribution -ktime (d:\\pessoais\\anacondafiles\\envs\\teste_with_gpu\\lib\\site-packages)\n",
      "WARNING: Ignoring invalid distribution -ktime (d:\\pessoais\\anacondafiles\\envs\\teste_with_gpu\\lib\\site-packages)\n",
      "WARNING: Ignoring invalid distribution -ktime (d:\\pessoais\\anacondafiles\\envs\\teste_with_gpu\\lib\\site-packages)\n"
     ]
    },
    {
     "name": "stdout",
     "output_type": "stream",
     "text": [
      "\n",
      "Requirement already satisfied: deprecated>=1.2.13 in d:\\pessoais\\anacondafiles\\envs\\teste_with_gpu\\lib\\site-packages (from sktime==0.11.4) (1.2.13)\n",
      "Requirement already satisfied: wrapt<2,>=1.10 in d:\\pessoais\\anacondafiles\\envs\\teste_with_gpu\\lib\\site-packages (from deprecated>=1.2.13->sktime==0.11.4) (1.13.3)\n",
      "Requirement already satisfied: setuptools in d:\\pessoais\\anacondafiles\\envs\\teste_with_gpu\\lib\\site-packages (from numba>=0.53->sktime==0.11.4) (58.0.4)\n",
      "Requirement already satisfied: llvmlite<0.37,>=0.36.0rc1 in d:\\pessoais\\anacondafiles\\envs\\teste_with_gpu\\lib\\site-packages (from numba>=0.53->sktime==0.11.4) (0.36.0)\n",
      "Requirement already satisfied: pytz>=2020.1 in d:\\pessoais\\anacondafiles\\envs\\teste_with_gpu\\lib\\site-packages (from pandas<1.5.0,>=1.1.0->sktime==0.11.4) (2022.1)\n",
      "Requirement already satisfied: python-dateutil>=2.8.1 in d:\\pessoais\\anacondafiles\\envs\\teste_with_gpu\\lib\\site-packages (from pandas<1.5.0,>=1.1.0->sktime==0.11.4) (2.8.2)\n",
      "Requirement already satisfied: six>=1.5 in d:\\pessoais\\anacondafiles\\envs\\teste_with_gpu\\lib\\site-packages (from python-dateutil>=2.8.1->pandas<1.5.0,>=1.1.0->sktime==0.11.4) (1.16.0)\n",
      "Requirement already satisfied: joblib>=0.11 in d:\\pessoais\\anacondafiles\\envs\\teste_with_gpu\\lib\\site-packages (from scikit-learn<1.2.0,>=0.24.0->sktime==0.11.4) (1.1.0)\n",
      "Requirement already satisfied: threadpoolctl>=2.0.0 in d:\\pessoais\\anacondafiles\\envs\\teste_with_gpu\\lib\\site-packages (from scikit-learn<1.2.0,>=0.24.0->sktime==0.11.4) (3.1.0)\n",
      "Requirement already satisfied: packaging>=21.3 in d:\\pessoais\\anacondafiles\\envs\\teste_with_gpu\\lib\\site-packages (from statsmodels>=0.12.1->sktime==0.11.4) (21.3)\n",
      "Requirement already satisfied: patsy>=0.5.2 in d:\\pessoais\\anacondafiles\\envs\\teste_with_gpu\\lib\\site-packages (from statsmodels>=0.12.1->sktime==0.11.4) (0.5.2)\n",
      "Requirement already satisfied: pyparsing!=3.0.5,>=2.0.2 in d:\\pessoais\\anacondafiles\\envs\\teste_with_gpu\\lib\\site-packages (from packaging>=21.3->statsmodels>=0.12.1->sktime==0.11.4) (3.0.4)\n",
      "Installing collected packages: sktime\n",
      "  Attempting uninstall: sktime\n",
      "    Found existing installation: sktime 0.11.3\n",
      "    Uninstalling sktime-0.11.3:\n",
      "      Successfully uninstalled sktime-0.11.3\n",
      "Successfully installed sktime-0.11.4\n"
     ]
    }
   ],
   "source": [
    "%pip install sktime==0.11.4\n",
    "\n",
    "#%pip uninstall sktime\n",
    "#%pip install sktime"
   ]
  },
  {
   "cell_type": "code",
   "execution_count": 3,
   "id": "11ab6efa",
   "metadata": {},
   "outputs": [],
   "source": [
    "import numpy as np\n",
    "import pandas as pd\n",
    "import timeit\n",
    "from sklearn.metrics import accuracy_score\n",
    "from sklearn.metrics import precision_score\n",
    "from sklearn.metrics import recall_score\n",
    "from sklearn.metrics import f1_score\n",
    "import tensorflow as tf\n",
    "from pickle import dump\n",
    "\n",
    "from sktime.classification.interval_based import (\n",
    "    RandomIntervalSpectralEnsemble,\n",
    ")\n",
    "from sktime.datasets import load_from_arff_to_dataframe as load_arff"
   ]
  },
  {
   "cell_type": "code",
   "execution_count": 4,
   "id": "ad3f0f5d",
   "metadata": {},
   "outputs": [
    {
     "name": "stdout",
     "output_type": "stream",
     "text": [
      "Found GPU at: /device:GPU:0\n"
     ]
    }
   ],
   "source": [
    "device_name = tf.test.gpu_device_name()\n",
    "if device_name != '/device:GPU:0':\n",
    "  raise SystemError('GPU device not found')\n",
    "print('Found GPU at: {}'.format(device_name))"
   ]
  },
  {
   "cell_type": "code",
   "execution_count": 5,
   "id": "b723eef9",
   "metadata": {},
   "outputs": [],
   "source": [
    "device_name = tf.test.gpu_device_name()\n",
    "if device_name != '/device:GPU:0':\n",
    "  print(\n",
    "      '\\n\\nThis error most likely means that this notebook is not '\n",
    "      'configured to use a GPU.  Change this in Notebook Settings via the '\n",
    "      'command palette (cmd/ctrl-shift-P) or the Edit menu.\\n\\n')\n",
    "  raise SystemError('GPU device not found')"
   ]
  },
  {
   "cell_type": "code",
   "execution_count": 8,
   "id": "e5a31b05",
   "metadata": {},
   "outputs": [
    {
     "name": "stdout",
     "output_type": "stream",
     "text": [
      "(12256, 1)\n",
      "<class 'pandas.core.frame.DataFrame'>\n"
     ]
    }
   ],
   "source": [
    "from sklearn.model_selection import KFold\n",
    "kf = KFold(n_splits=10)\n",
    "X, y = load_arff(\"AllCandidas_TRAIN_V2.arff\")\n",
    "print(np.shape(X))\n",
    "print(type(X))\n",
    "precision = []\n",
    "accuracy = []\n",
    "f1 = []\n",
    "recall = []\n",
    "def gpu(X, y, kf):\n",
    "  with tf.device('/device:GPU:0'):\n",
    "    i= 0\n",
    "    for train_index, test_index in kf.split(X):\n",
    "        #print(\"TRAIN:\", train_index, \"TEST:\", test_index)    \n",
    "        X_train, X_test = X.iloc[train_index], X.iloc[test_index]\n",
    "        y_train, y_test = y[train_index], y[test_index]\n",
    "        #print(X_train.head())\n",
    "        #print(type(X_train))\n",
    "        print(\"Treining TSFC...\")\n",
    "        RISE =     RandomIntervalSpectralEnsemble()\n",
    "        print(f\"Interaction {i}\")\n",
    "        print(\"In trainning...\")\n",
    "        RISE.fit(X_train, y_train)\n",
    "        print(\"In prediction...\")\n",
    "        i=i+1\n",
    "        \n",
    "        # Predict and print accuracy\n",
    "        predictions = RISE.predict(X_test)\n",
    "        precision.append(precision_score(y_test, predictions, average='macro',zero_division=1))\n",
    "        accuracy.append(accuracy_score(y_test, predictions))\n",
    "        recall.append(recall_score(y_test, predictions, average='macro',zero_division=1))\n",
    "        f1.append(f1_score(y_test, predictions, average='macro'))\n",
    "        #print(\"In prediction...\")\n",
    "        # Predict and print accuracy\n",
    "       # predictions = HC2.predict(X_test)\n",
    "    print(type(X_train))\n",
    "    print(np.shape(X_train))\n",
    "    print(f\"Precision: {np.mean(precision)}, Accuracy:{np.mean(accuracy)}, Recall: {np.mean(recall)}, F1: {np.mean(f1)}\")\n",
    "    return np.mean(precision), np.mean(accuracy), np.mean(recall), np.mean(f1), np.std(accuracy), RISE"
   ]
  },
  {
   "cell_type": "code",
   "execution_count": 9,
   "id": "e266e950",
   "metadata": {},
   "outputs": [
    {
     "name": "stdout",
     "output_type": "stream",
     "text": [
      "Using MirroredStrategy\n",
      "INFO:tensorflow:Using MirroredStrategy with devices ('/job:localhost/replica:0/task:0/device:GPU:0',)\n",
      "MirroredVariable:{\n",
      "  0: <tf.Variable 'Variable:0' shape=() dtype=float32, numpy=1.0>\n",
      "}\n",
      "Treining TSFC...\n",
      "Interaction 0\n",
      "In trainning...\n",
      "In prediction...\n",
      "Treining TSFC...\n",
      "Interaction 1\n",
      "In trainning...\n",
      "In prediction...\n",
      "Treining TSFC...\n",
      "Interaction 2\n",
      "In trainning...\n",
      "In prediction...\n",
      "Treining TSFC...\n",
      "Interaction 3\n",
      "In trainning...\n",
      "In prediction...\n",
      "Treining TSFC...\n",
      "Interaction 4\n",
      "In trainning...\n",
      "In prediction...\n",
      "Treining TSFC...\n",
      "Interaction 5\n",
      "In trainning...\n",
      "In prediction...\n",
      "Treining TSFC...\n",
      "Interaction 6\n",
      "In trainning...\n",
      "In prediction...\n",
      "Treining TSFC...\n",
      "Interaction 7\n",
      "In trainning...\n",
      "In prediction...\n",
      "Treining TSFC...\n",
      "Interaction 8\n",
      "In trainning...\n",
      "In prediction...\n",
      "Treining TSFC...\n",
      "Interaction 9\n",
      "In trainning...\n",
      "In prediction...\n",
      "<class 'pandas.core.frame.DataFrame'>\n",
      "(11031, 1)\n",
      "Precision: 0.8928632797228288, Accuracy:0.8932775576788627, Recall: 0.8936930076855193, F1: 0.8926344385646978\n"
     ]
    }
   ],
   "source": [
    "if tf.config.list_physical_devices('GPU'):\n",
    "  print(\"Using MirroredStrategy\")\n",
    "  strategy = tf.distribute.MirroredStrategy()\n",
    "else:  # Use the Default Strategy\n",
    "  print(\"Using Default Strategy\")\n",
    "  strategy = tf.distribute.get_strategy()\n",
    "\n",
    "with strategy.scope():\n",
    "  # Do something interesting\n",
    "  print(tf.Variable(1.))\n",
    "  precision, accuracy, recall, f1, std, RISE_model = gpu(X,y,kf)"
   ]
  },
  {
   "cell_type": "code",
   "execution_count": 10,
   "id": "a9077687",
   "metadata": {},
   "outputs": [
    {
     "name": "stderr",
     "output_type": "stream",
     "text": [
      "C:\\Users\\mlb\\AppData\\Local\\Temp/ipykernel_18180/3617186161.py:1: DeprecationWarning: `np.float` is a deprecated alias for the builtin `float`. To silence this warning, use `float` by itself. Doing this will not modify any behavior and is safe. If you specifically wanted the numpy scalar type, use `np.float64` here.\n",
      "Deprecated in NumPy 1.20; for more details and guidance: https://numpy.org/devdocs/release/1.20.0-notes.html#deprecations\n",
      "  df_metrics = pd.DataFrame(data=np.zeros((1, 5), dtype=np.float), index=[0],\n"
     ]
    },
    {
     "data": {
      "text/html": [
       "<div>\n",
       "<style scoped>\n",
       "    .dataframe tbody tr th:only-of-type {\n",
       "        vertical-align: middle;\n",
       "    }\n",
       "\n",
       "    .dataframe tbody tr th {\n",
       "        vertical-align: top;\n",
       "    }\n",
       "\n",
       "    .dataframe thead th {\n",
       "        text-align: right;\n",
       "    }\n",
       "</style>\n",
       "<table border=\"1\" class=\"dataframe\">\n",
       "  <thead>\n",
       "    <tr style=\"text-align: right;\">\n",
       "      <th></th>\n",
       "      <th>precision</th>\n",
       "      <th>accuracy</th>\n",
       "      <th>recall</th>\n",
       "      <th>f1_score</th>\n",
       "      <th>std</th>\n",
       "    </tr>\n",
       "  </thead>\n",
       "  <tbody>\n",
       "    <tr>\n",
       "      <th>0</th>\n",
       "      <td>0.892863</td>\n",
       "      <td>0.893278</td>\n",
       "      <td>0.893693</td>\n",
       "      <td>0.892634</td>\n",
       "      <td>0.009083</td>\n",
       "    </tr>\n",
       "  </tbody>\n",
       "</table>\n",
       "</div>"
      ],
      "text/plain": [
       "   precision  accuracy    recall  f1_score       std\n",
       "0   0.892863  0.893278  0.893693  0.892634  0.009083"
      ]
     },
     "execution_count": 10,
     "metadata": {},
     "output_type": "execute_result"
    }
   ],
   "source": [
    "df_metrics = pd.DataFrame(data=np.zeros((1, 5), dtype=np.float), index=[0],\n",
    "                       columns=['precision', 'accuracy', 'recall','f1_score','std'])\n",
    "df_metrics['precision'] = precision\n",
    "df_metrics['accuracy'] = accuracy\n",
    "df_metrics['recall'] = recall\n",
    "df_metrics['f1_score'] = f1\n",
    "df_metrics['std'] = std\n",
    "df_metrics"
   ]
  },
  {
   "cell_type": "code",
   "execution_count": 11,
   "id": "e8e3e5f5",
   "metadata": {},
   "outputs": [
    {
     "name": "stdout",
     "output_type": "stream",
     "text": [
      "Saving metrics...\n"
     ]
    },
    {
     "ename": "PermissionError",
     "evalue": "[Errno 13] Permission denied: 'results/df_metrics_RISE.csv'",
     "output_type": "error",
     "traceback": [
      "\u001b[1;31m---------------------------------------------------------------------------\u001b[0m",
      "\u001b[1;31mPermissionError\u001b[0m                           Traceback (most recent call last)",
      "\u001b[1;32m~\\AppData\\Local\\Temp/ipykernel_18180/1774575294.py\u001b[0m in \u001b[0;36m<module>\u001b[1;34m\u001b[0m\n\u001b[0;32m      1\u001b[0m \u001b[1;31m#save metrics\u001b[0m\u001b[1;33m\u001b[0m\u001b[1;33m\u001b[0m\u001b[0m\n\u001b[0;32m      2\u001b[0m \u001b[0mprint\u001b[0m\u001b[1;33m(\u001b[0m\u001b[1;34m\"Saving metrics...\"\u001b[0m\u001b[1;33m)\u001b[0m\u001b[1;33m\u001b[0m\u001b[1;33m\u001b[0m\u001b[0m\n\u001b[1;32m----> 3\u001b[1;33m \u001b[0mdf_metrics\u001b[0m\u001b[1;33m.\u001b[0m\u001b[0mto_csv\u001b[0m\u001b[1;33m(\u001b[0m\u001b[1;34m'results/'\u001b[0m\u001b[1;33m+\u001b[0m \u001b[1;34m'df_metrics_RISE.csv'\u001b[0m\u001b[1;33m,\u001b[0m \u001b[0mindex\u001b[0m\u001b[1;33m=\u001b[0m\u001b[1;32mFalse\u001b[0m\u001b[1;33m)\u001b[0m\u001b[1;33m\u001b[0m\u001b[1;33m\u001b[0m\u001b[0m\n\u001b[0m\u001b[0;32m      4\u001b[0m \u001b[1;31m#save the model\u001b[0m\u001b[1;33m\u001b[0m\u001b[1;33m\u001b[0m\u001b[0m\n\u001b[0;32m      5\u001b[0m \u001b[0mprint\u001b[0m\u001b[1;33m(\u001b[0m\u001b[1;34m\"Saving model...\"\u001b[0m\u001b[1;33m)\u001b[0m\u001b[1;33m\u001b[0m\u001b[1;33m\u001b[0m\u001b[0m\n",
      "\u001b[1;32mD:\\Pessoais\\AnacondaFiles\\envs\\teste_with_gpu\\lib\\site-packages\\pandas\\core\\generic.py\u001b[0m in \u001b[0;36mto_csv\u001b[1;34m(self, path_or_buf, sep, na_rep, float_format, columns, header, index, index_label, mode, encoding, compression, quoting, quotechar, line_terminator, chunksize, date_format, doublequote, escapechar, decimal, errors, storage_options)\u001b[0m\n\u001b[0;32m   3561\u001b[0m         )\n\u001b[0;32m   3562\u001b[0m \u001b[1;33m\u001b[0m\u001b[0m\n\u001b[1;32m-> 3563\u001b[1;33m         return DataFrameRenderer(formatter).to_csv(\n\u001b[0m\u001b[0;32m   3564\u001b[0m             \u001b[0mpath_or_buf\u001b[0m\u001b[1;33m,\u001b[0m\u001b[1;33m\u001b[0m\u001b[1;33m\u001b[0m\u001b[0m\n\u001b[0;32m   3565\u001b[0m             \u001b[0mline_terminator\u001b[0m\u001b[1;33m=\u001b[0m\u001b[0mline_terminator\u001b[0m\u001b[1;33m,\u001b[0m\u001b[1;33m\u001b[0m\u001b[1;33m\u001b[0m\u001b[0m\n",
      "\u001b[1;32mD:\\Pessoais\\AnacondaFiles\\envs\\teste_with_gpu\\lib\\site-packages\\pandas\\io\\formats\\format.py\u001b[0m in \u001b[0;36mto_csv\u001b[1;34m(self, path_or_buf, encoding, sep, columns, index_label, mode, compression, quoting, quotechar, line_terminator, chunksize, date_format, doublequote, escapechar, errors, storage_options)\u001b[0m\n\u001b[0;32m   1178\u001b[0m             \u001b[0mformatter\u001b[0m\u001b[1;33m=\u001b[0m\u001b[0mself\u001b[0m\u001b[1;33m.\u001b[0m\u001b[0mfmt\u001b[0m\u001b[1;33m,\u001b[0m\u001b[1;33m\u001b[0m\u001b[1;33m\u001b[0m\u001b[0m\n\u001b[0;32m   1179\u001b[0m         )\n\u001b[1;32m-> 1180\u001b[1;33m         \u001b[0mcsv_formatter\u001b[0m\u001b[1;33m.\u001b[0m\u001b[0msave\u001b[0m\u001b[1;33m(\u001b[0m\u001b[1;33m)\u001b[0m\u001b[1;33m\u001b[0m\u001b[1;33m\u001b[0m\u001b[0m\n\u001b[0m\u001b[0;32m   1181\u001b[0m \u001b[1;33m\u001b[0m\u001b[0m\n\u001b[0;32m   1182\u001b[0m         \u001b[1;32mif\u001b[0m \u001b[0mcreated_buffer\u001b[0m\u001b[1;33m:\u001b[0m\u001b[1;33m\u001b[0m\u001b[1;33m\u001b[0m\u001b[0m\n",
      "\u001b[1;32mD:\\Pessoais\\AnacondaFiles\\envs\\teste_with_gpu\\lib\\site-packages\\pandas\\io\\formats\\csvs.py\u001b[0m in \u001b[0;36msave\u001b[1;34m(self)\u001b[0m\n\u001b[0;32m    239\u001b[0m         \"\"\"\n\u001b[0;32m    240\u001b[0m         \u001b[1;31m# apply compression and byte/text conversion\u001b[0m\u001b[1;33m\u001b[0m\u001b[1;33m\u001b[0m\u001b[0m\n\u001b[1;32m--> 241\u001b[1;33m         with get_handle(\n\u001b[0m\u001b[0;32m    242\u001b[0m             \u001b[0mself\u001b[0m\u001b[1;33m.\u001b[0m\u001b[0mfilepath_or_buffer\u001b[0m\u001b[1;33m,\u001b[0m\u001b[1;33m\u001b[0m\u001b[1;33m\u001b[0m\u001b[0m\n\u001b[0;32m    243\u001b[0m             \u001b[0mself\u001b[0m\u001b[1;33m.\u001b[0m\u001b[0mmode\u001b[0m\u001b[1;33m,\u001b[0m\u001b[1;33m\u001b[0m\u001b[1;33m\u001b[0m\u001b[0m\n",
      "\u001b[1;32mD:\\Pessoais\\AnacondaFiles\\envs\\teste_with_gpu\\lib\\site-packages\\pandas\\io\\common.py\u001b[0m in \u001b[0;36mget_handle\u001b[1;34m(path_or_buf, mode, encoding, compression, memory_map, is_text, errors, storage_options)\u001b[0m\n\u001b[0;32m    787\u001b[0m         \u001b[1;32mif\u001b[0m \u001b[0mioargs\u001b[0m\u001b[1;33m.\u001b[0m\u001b[0mencoding\u001b[0m \u001b[1;32mand\u001b[0m \u001b[1;34m\"b\"\u001b[0m \u001b[1;32mnot\u001b[0m \u001b[1;32min\u001b[0m \u001b[0mioargs\u001b[0m\u001b[1;33m.\u001b[0m\u001b[0mmode\u001b[0m\u001b[1;33m:\u001b[0m\u001b[1;33m\u001b[0m\u001b[1;33m\u001b[0m\u001b[0m\n\u001b[0;32m    788\u001b[0m             \u001b[1;31m# Encoding\u001b[0m\u001b[1;33m\u001b[0m\u001b[1;33m\u001b[0m\u001b[0m\n\u001b[1;32m--> 789\u001b[1;33m             handle = open(\n\u001b[0m\u001b[0;32m    790\u001b[0m                 \u001b[0mhandle\u001b[0m\u001b[1;33m,\u001b[0m\u001b[1;33m\u001b[0m\u001b[1;33m\u001b[0m\u001b[0m\n\u001b[0;32m    791\u001b[0m                 \u001b[0mioargs\u001b[0m\u001b[1;33m.\u001b[0m\u001b[0mmode\u001b[0m\u001b[1;33m,\u001b[0m\u001b[1;33m\u001b[0m\u001b[1;33m\u001b[0m\u001b[0m\n",
      "\u001b[1;31mPermissionError\u001b[0m: [Errno 13] Permission denied: 'results/df_metrics_RISE.csv'"
     ]
    }
   ],
   "source": [
    "#save metrics\n",
    "print(\"Saving metrics...\")\n",
    "df_metrics.to_csv('results/'+ 'df_metrics_RISE.csv', index=False)\n",
    "#save the model\n",
    "print(\"Saving model...\")\n",
    "dump(RISE_model, open('results/'+'RISE_model.pkl', 'wb'))\n",
    "print(\"Metrics of model:\")\n",
    "df_metrics"
   ]
  },
  {
   "cell_type": "code",
   "execution_count": null,
   "id": "6ecfa713",
   "metadata": {},
   "outputs": [],
   "source": []
  }
 ],
 "metadata": {
  "kernelspec": {
   "display_name": "Python 3 (ipykernel)",
   "language": "python",
   "name": "python3"
  },
  "language_info": {
   "codemirror_mode": {
    "name": "ipython",
    "version": 3
   },
   "file_extension": ".py",
   "mimetype": "text/x-python",
   "name": "python",
   "nbconvert_exporter": "python",
   "pygments_lexer": "ipython3",
   "version": "3.9.7"
  }
 },
 "nbformat": 4,
 "nbformat_minor": 5
}
