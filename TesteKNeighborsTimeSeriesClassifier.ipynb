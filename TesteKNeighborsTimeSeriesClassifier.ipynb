{
 "cells": [
  {
   "cell_type": "code",
   "execution_count": 1,
   "id": "aa9f2ad8",
   "metadata": {},
   "outputs": [
    {
     "name": "stdout",
     "output_type": "stream",
     "text": [
      "Requirement already satisfied: sktime==0.11.3 in d:\\pessoais\\anacondafiles\\envs\\teste_with_gpu\\lib\\site-packages (0.11.3)\n",
      "Requirement already satisfied: numpy<1.22,>=1.21.0 in d:\\pessoais\\anacondafiles\\envs\\teste_with_gpu\\lib\\site-packages (from sktime==0.11.3) (1.21.5)\n",
      "Requirement already satisfied: pandas<1.5.0,>=1.1.0 in d:\\pessoais\\anacondafiles\\envs\\teste_with_gpu\\lib\\site-packages (from sktime==0.11.3) (1.4.1)\n",
      "Requirement already satisfied: numba>=0.53 in d:\\pessoais\\anacondafiles\\envs\\teste_with_gpu\\lib\\site-packages (from sktime==0.11.3) (0.55.1)\n",
      "Requirement already satisfied: scipy<1.9.0 in d:\\pessoais\\anacondafiles\\envs\\teste_with_gpu\\lib\\site-packages (from sktime==0.11.3) (1.7.3)\n",
      "Requirement already satisfied: statsmodels>=0.12.1 in d:\\pessoais\\anacondafiles\\envs\\teste_with_gpu\\lib\\site-packages (from sktime==0.11.3) (0.13.2)\n",
      "Requirement already satisfied: scikit-learn>=0.24.0 in d:\\pessoais\\anacondafiles\\envs\\teste_with_gpu\\lib\\site-packages (from sktime==0.11.3) (1.0.2)\n",
      "Requirement already satisfied: deprecated>=1.2.13 in d:\\pessoais\\anacondafiles\\envs\\teste_with_gpu\\lib\\site-packages (from sktime==0.11.3) (1.2.13)\n",
      "Requirement already satisfied: wrapt<2,>=1.10 in d:\\pessoais\\anacondafiles\\envs\\teste_with_gpu\\lib\\site-packages (from deprecated>=1.2.13->sktime==0.11.3) (1.13.3)\n",
      "Requirement already satisfied: setuptools in d:\\pessoais\\anacondafiles\\envs\\teste_with_gpu\\lib\\site-packages (from numba>=0.53->sktime==0.11.3) (58.0.4)\n",
      "Requirement already satisfied: llvmlite<0.39,>=0.38.0rc1 in d:\\pessoais\\anacondafiles\\envs\\teste_with_gpu\\lib\\site-packages (from numba>=0.53->sktime==0.11.3) (0.38.0)\n",
      "Requirement already satisfied: python-dateutil>=2.8.1 in d:\\pessoais\\anacondafiles\\envs\\teste_with_gpu\\lib\\site-packages (from pandas<1.5.0,>=1.1.0->sktime==0.11.3) (2.8.2)\n",
      "Requirement already satisfied: pytz>=2020.1 in d:\\pessoais\\anacondafiles\\envs\\teste_with_gpu\\lib\\site-packages (from pandas<1.5.0,>=1.1.0->sktime==0.11.3) (2022.1)\n",
      "Requirement already satisfied: six>=1.5 in d:\\pessoais\\anacondafiles\\envs\\teste_with_gpu\\lib\\site-packages (from python-dateutil>=2.8.1->pandas<1.5.0,>=1.1.0->sktime==0.11.3) (1.16.0)\n",
      "Requirement already satisfied: threadpoolctl>=2.0.0 in d:\\pessoais\\anacondafiles\\envs\\teste_with_gpu\\lib\\site-packages (from scikit-learn>=0.24.0->sktime==0.11.3) (3.1.0)\n",
      "Requirement already satisfied: joblib>=0.11 in d:\\pessoais\\anacondafiles\\envs\\teste_with_gpu\\lib\\site-packages (from scikit-learn>=0.24.0->sktime==0.11.3) (1.1.0)\n",
      "Requirement already satisfied: patsy>=0.5.2 in d:\\pessoais\\anacondafiles\\envs\\teste_with_gpu\\lib\\site-packages (from statsmodels>=0.12.1->sktime==0.11.3) (0.5.2)\n",
      "Requirement already satisfied: packaging>=21.3 in d:\\pessoais\\anacondafiles\\envs\\teste_with_gpu\\lib\\site-packages (from statsmodels>=0.12.1->sktime==0.11.3) (21.3)\n",
      "Requirement already satisfied: pyparsing!=3.0.5,>=2.0.2 in d:\\pessoais\\anacondafiles\\envs\\teste_with_gpu\\lib\\site-packages (from packaging>=21.3->statsmodels>=0.12.1->sktime==0.11.3) (3.0.4)\n",
      "Note: you may need to restart the kernel to use updated packages.\n"
     ]
    }
   ],
   "source": [
    "%pip install sktime==0.11.3"
   ]
  },
  {
   "cell_type": "code",
   "execution_count": 2,
   "id": "3022fb57",
   "metadata": {},
   "outputs": [],
   "source": [
    "import numpy as np\n",
    "import pandas as pd\n",
    "import timeit\n",
    "from sklearn.model_selection import RepeatedKFold\n",
    "from sklearn.metrics import accuracy_score\n",
    "from sklearn.metrics import precision_score\n",
    "from sklearn.metrics import recall_score\n",
    "from sklearn.metrics import f1_score\n",
    "from sklearn.model_selection import cross_val_score\n",
    "from sklearn.model_selection import ShuffleSplit\n",
    "from sklearn.metrics import fbeta_score, make_scorer\n",
    "import tensorflow as tf\n",
    "from pickle import dump\n",
    "\n",
    "from sktime.classification.distance_based import KNeighborsTimeSeriesClassifier\n",
    "from sktime.datasets import load_from_arff_to_dataframe as load_arff\n",
    "#numpy.version.version"
   ]
  },
  {
   "cell_type": "code",
   "execution_count": 3,
   "id": "b58bb0cf",
   "metadata": {},
   "outputs": [
    {
     "name": "stdout",
     "output_type": "stream",
     "text": [
      "Found GPU at: /device:GPU:0\n"
     ]
    }
   ],
   "source": [
    "device_name = tf.test.gpu_device_name()\n",
    "if device_name != '/device:GPU:0':\n",
    "  raise SystemError('GPU device not found')\n",
    "print('Found GPU at: {}'.format(device_name))"
   ]
  },
  {
   "cell_type": "code",
   "execution_count": 4,
   "id": "f5b5e22e",
   "metadata": {},
   "outputs": [],
   "source": [
    "device_name = tf.test.gpu_device_name()\n",
    "if device_name != '/device:GPU:0':\n",
    "  print(\n",
    "      '\\n\\nThis error most likely means that this notebook is not '\n",
    "      'configured to use a GPU.  Change this in Notebook Settings via the '\n",
    "      'command palette (cmd/ctrl-shift-P) or the Edit menu.\\n\\n')\n",
    "  raise SystemError('GPU device not found')"
   ]
  },
  {
   "cell_type": "code",
   "execution_count": 5,
   "id": "aff5c8cb",
   "metadata": {},
   "outputs": [
    {
     "name": "stdout",
     "output_type": "stream",
     "text": [
      "(12256, 1)\n",
      "<class 'pandas.core.frame.DataFrame'>\n"
     ]
    }
   ],
   "source": [
    "from sklearn.model_selection import KFold\n",
    "kf = KFold(n_splits=10)\n",
    "X, y = load_arff(\"AllCandidas_TRAIN_V2.arff\")\n",
    "print(np.shape(X))\n",
    "print(type(X))\n",
    "precision = []\n",
    "accuracy = []\n",
    "f1 = []\n",
    "recall = []\n",
    "def gpu(X, y, kf):\n",
    "  with tf.device('/device:GPU:0'):\n",
    "    i= 0\n",
    "    for train_index, test_index in kf.split(X):\n",
    "        #print(\"TRAIN:\", train_index, \"TEST:\", test_index)    \n",
    "        X_train, X_test = X.iloc[train_index], X.iloc[test_index]\n",
    "        y_train, y_test = y[train_index], y[test_index]\n",
    "        #print(X_train.head())\n",
    "        #print(type(X_train))\n",
    "        print(\"Treining EE...\")\n",
    "        KNTSC = KNeighborsTimeSeriesClassifier()\n",
    "        print(f\"Interaction {i}\")\n",
    "        print(\"In trainning...\")\n",
    "        KNTSC.fit(X_train, y_train)\n",
    "        print(\"In prediction...\")\n",
    "        i=i+1\n",
    "        \n",
    "        # Predict and print accuracy\n",
    "        predictions = KNTSC.predict(X_test)\n",
    "        precision.append(precision_score(y_test, predictions, average='macro',zero_division=1))\n",
    "        accuracy.append(accuracy_score(y_test, predictions))\n",
    "        recall.append(recall_score(y_test, predictions, average='macro',zero_division=1))\n",
    "        f1.append(f1_score(y_test, predictions, average='macro'))\n",
    "        #print(\"In prediction...\")\n",
    "        # Predict and print accuracy\n",
    "       # predictions = HC2.predict(X_test)\n",
    "    print(type(X_train))\n",
    "    print(np.shape(X_train))\n",
    "    print(f\"Precision: {np.mean(precision)}, Accuracy:{np.mean(accuracy)}, Recall: {np.mean(recall)}, F1: {np.mean(f1)}\")\n",
    "    return np.mean(precision), np.mean(accuracy), np.mean(recall), np.mean(f1), np.std(accuracy), KNTSC"
   ]
  },
  {
   "cell_type": "code",
   "execution_count": 6,
   "id": "3e90105b",
   "metadata": {},
   "outputs": [
    {
     "name": "stdout",
     "output_type": "stream",
     "text": [
      "Using MirroredStrategy\n",
      "INFO:tensorflow:Using MirroredStrategy with devices ('/job:localhost/replica:0/task:0/device:GPU:0',)\n",
      "MirroredVariable:{\n",
      "  0: <tf.Variable 'Variable:0' shape=() dtype=float32, numpy=1.0>\n",
      "}\n",
      "Treining EE...\n",
      "Interaction 0\n",
      "In trainning...\n",
      "In prediction...\n",
      "Treining EE...\n",
      "Interaction 1\n",
      "In trainning...\n",
      "In prediction...\n",
      "Treining EE...\n",
      "Interaction 2\n",
      "In trainning...\n",
      "In prediction...\n",
      "Treining EE...\n",
      "Interaction 3\n",
      "In trainning...\n",
      "In prediction...\n",
      "Treining EE...\n",
      "Interaction 4\n",
      "In trainning...\n",
      "In prediction...\n",
      "Treining EE...\n",
      "Interaction 5\n",
      "In trainning...\n",
      "In prediction...\n",
      "Treining EE...\n",
      "Interaction 6\n",
      "In trainning...\n",
      "In prediction...\n",
      "Treining EE...\n",
      "Interaction 7\n",
      "In trainning...\n",
      "In prediction...\n",
      "Treining EE...\n",
      "Interaction 8\n",
      "In trainning...\n",
      "In prediction...\n",
      "Treining EE...\n",
      "Interaction 9\n",
      "In trainning...\n",
      "In prediction...\n",
      "<class 'pandas.core.frame.DataFrame'>\n",
      "(11031, 1)\n",
      "Precision: 0.9702471818290999, Accuracy:0.9703832606452043, Recall: 0.9704152546747599, F1: 0.9702348385506031\n"
     ]
    }
   ],
   "source": [
    "if tf.config.list_physical_devices('GPU'):\n",
    "  print(\"Using MirroredStrategy\")\n",
    "  strategy = tf.distribute.MirroredStrategy()\n",
    "else:  # Use the Default Strategy\n",
    "  print(\"Using Default Strategy\")\n",
    "  strategy = tf.distribute.get_strategy()\n",
    "\n",
    "with strategy.scope():\n",
    "  # Do something interesting\n",
    "  print(tf.Variable(1.))\n",
    "  precision, accuracy, recall, f1, std, KNTSC = gpu(X,y,kf)"
   ]
  },
  {
   "cell_type": "code",
   "execution_count": 7,
   "id": "435afaef",
   "metadata": {},
   "outputs": [
    {
     "name": "stderr",
     "output_type": "stream",
     "text": [
      "C:\\Users\\mlb\\AppData\\Local\\Temp/ipykernel_33368/3617186161.py:1: DeprecationWarning: `np.float` is a deprecated alias for the builtin `float`. To silence this warning, use `float` by itself. Doing this will not modify any behavior and is safe. If you specifically wanted the numpy scalar type, use `np.float64` here.\n",
      "Deprecated in NumPy 1.20; for more details and guidance: https://numpy.org/devdocs/release/1.20.0-notes.html#deprecations\n",
      "  df_metrics = pd.DataFrame(data=np.zeros((1, 5), dtype=np.float), index=[0],\n"
     ]
    },
    {
     "data": {
      "text/html": [
       "<div>\n",
       "<style scoped>\n",
       "    .dataframe tbody tr th:only-of-type {\n",
       "        vertical-align: middle;\n",
       "    }\n",
       "\n",
       "    .dataframe tbody tr th {\n",
       "        vertical-align: top;\n",
       "    }\n",
       "\n",
       "    .dataframe thead th {\n",
       "        text-align: right;\n",
       "    }\n",
       "</style>\n",
       "<table border=\"1\" class=\"dataframe\">\n",
       "  <thead>\n",
       "    <tr style=\"text-align: right;\">\n",
       "      <th></th>\n",
       "      <th>precision</th>\n",
       "      <th>accuracy</th>\n",
       "      <th>recall</th>\n",
       "      <th>f1_score</th>\n",
       "      <th>std</th>\n",
       "    </tr>\n",
       "  </thead>\n",
       "  <tbody>\n",
       "    <tr>\n",
       "      <th>0</th>\n",
       "      <td>0.970247</td>\n",
       "      <td>0.970383</td>\n",
       "      <td>0.970415</td>\n",
       "      <td>0.970235</td>\n",
       "      <td>0.006481</td>\n",
       "    </tr>\n",
       "  </tbody>\n",
       "</table>\n",
       "</div>"
      ],
      "text/plain": [
       "   precision  accuracy    recall  f1_score       std\n",
       "0   0.970247  0.970383  0.970415  0.970235  0.006481"
      ]
     },
     "execution_count": 7,
     "metadata": {},
     "output_type": "execute_result"
    }
   ],
   "source": [
    "df_metrics = pd.DataFrame(data=np.zeros((1, 5), dtype=np.float), index=[0],\n",
    "                       columns=['precision', 'accuracy', 'recall','f1_score','std'])\n",
    "df_metrics['precision'] = precision\n",
    "df_metrics['accuracy'] = accuracy\n",
    "df_metrics['recall'] = recall\n",
    "df_metrics['f1_score'] = f1\n",
    "df_metrics['std'] = std\n",
    "df_metrics"
   ]
  },
  {
   "cell_type": "code",
   "execution_count": 8,
   "id": "bfdb2d10",
   "metadata": {},
   "outputs": [
    {
     "name": "stdout",
     "output_type": "stream",
     "text": [
      "Saving metrics...\n",
      "Saving model...\n",
      "Metrics of model:\n"
     ]
    },
    {
     "data": {
      "text/html": [
       "<div>\n",
       "<style scoped>\n",
       "    .dataframe tbody tr th:only-of-type {\n",
       "        vertical-align: middle;\n",
       "    }\n",
       "\n",
       "    .dataframe tbody tr th {\n",
       "        vertical-align: top;\n",
       "    }\n",
       "\n",
       "    .dataframe thead th {\n",
       "        text-align: right;\n",
       "    }\n",
       "</style>\n",
       "<table border=\"1\" class=\"dataframe\">\n",
       "  <thead>\n",
       "    <tr style=\"text-align: right;\">\n",
       "      <th></th>\n",
       "      <th>precision</th>\n",
       "      <th>accuracy</th>\n",
       "      <th>recall</th>\n",
       "      <th>f1_score</th>\n",
       "      <th>std</th>\n",
       "    </tr>\n",
       "  </thead>\n",
       "  <tbody>\n",
       "    <tr>\n",
       "      <th>0</th>\n",
       "      <td>0.970247</td>\n",
       "      <td>0.970383</td>\n",
       "      <td>0.970415</td>\n",
       "      <td>0.970235</td>\n",
       "      <td>0.006481</td>\n",
       "    </tr>\n",
       "  </tbody>\n",
       "</table>\n",
       "</div>"
      ],
      "text/plain": [
       "   precision  accuracy    recall  f1_score       std\n",
       "0   0.970247  0.970383  0.970415  0.970235  0.006481"
      ]
     },
     "execution_count": 8,
     "metadata": {},
     "output_type": "execute_result"
    }
   ],
   "source": [
    "#save metrics\n",
    "print(\"Saving metrics...\")\n",
    "df_metrics.to_csv(\"results/\" + 'df_metrics_KNTSC.csv', index=False)\n",
    "#save the model\n",
    "print(\"Saving model...\")\n",
    "dump(KNTSC, open('results/'+'KNTSC_model.pkl', 'wb'))\n",
    "print(\"Metrics of model:\")\n",
    "df_metrics"
   ]
  },
  {
   "cell_type": "code",
   "execution_count": 6,
   "id": "c710b773",
   "metadata": {},
   "outputs": [
    {
     "name": "stderr",
     "output_type": "stream",
     "text": [
      "C:\\Users\\mlb\\AppData\\Local\\Temp/ipykernel_20960/3223071326.py:5: DeprecationWarning: `np.float` is a deprecated alias for the builtin `float`. To silence this warning, use `float` by itself. Doing this will not modify any behavior and is safe. If you specifically wanted the numpy scalar type, use `np.float64` here.\n",
      "Deprecated in NumPy 1.20; for more details and guidance: https://numpy.org/devdocs/release/1.20.0-notes.html#deprecations\n",
      "  res = pd.DataFrame(data=np.zeros((1, 4), dtype=np.float), index=[0],\n"
     ]
    },
    {
     "name": "stdout",
     "output_type": "stream",
     "text": [
      "['6' '5' '1' '1' '5']\n",
      "['6' '2' '3' '2' '1']\n",
      "Treining KNTSC...\n",
      "In prediction...\n"
     ]
    }
   ],
   "source": [
    "#if __name__ == \"__main__\":\n",
    "    # Load data\n",
    "def gpu():\n",
    "  with tf.device('/device:GPU:0'):\n",
    "    res = pd.DataFrame(data=np.zeros((1, 4), dtype=np.float), index=[0],\n",
    "                       columns=['precision', 'accuracy', 'recall','f1_score'])\n",
    "    X_train, y_train = load_arff(\"AllCandidas_TRAIN_2.arff\")\n",
    "    X_test, y_test = load_arff(\"AllCandidas_TEST_2.arff\")\n",
    "    X_train.head()\n",
    "    print(y_train[0:5])\n",
    "    print(y_test[0:5])\n",
    "    # Fit HC2\n",
    "    print(\"Treining KNTSC...\")\n",
    "    KNTSC = KNeighborsTimeSeriesClassifier()\n",
    "    KNTSC.fit(X_train, y_train)\n",
    "    print(\"In prediction...\")\n",
    "    # Predict and print accuracy\n",
    "    predictions = KNTSC.predict(X_test)\n",
    "    res['precision'] = precision_score(y_test, predictions, average='macro')\n",
    "    res['accuracy'] = accuracy_score(y_test, predictions)\n",
    "    res['recall'] = recall_score(y_test, predictions, average='macro')\n",
    "    res['f1_score'] = f1_score(y_test, predictions, average='macro')\n",
    "    return res , KNTSC\n",
    "df_metrics, KNTSC_model = gpu()"
   ]
  },
  {
   "cell_type": "code",
   "execution_count": 7,
   "id": "f263fd74",
   "metadata": {},
   "outputs": [
    {
     "name": "stdout",
     "output_type": "stream",
     "text": [
      "Saving metrics...\n",
      "Saving model...\n",
      "Metrics of model:\n"
     ]
    },
    {
     "data": {
      "text/html": [
       "<div>\n",
       "<style scoped>\n",
       "    .dataframe tbody tr th:only-of-type {\n",
       "        vertical-align: middle;\n",
       "    }\n",
       "\n",
       "    .dataframe tbody tr th {\n",
       "        vertical-align: top;\n",
       "    }\n",
       "\n",
       "    .dataframe thead th {\n",
       "        text-align: right;\n",
       "    }\n",
       "</style>\n",
       "<table border=\"1\" class=\"dataframe\">\n",
       "  <thead>\n",
       "    <tr style=\"text-align: right;\">\n",
       "      <th></th>\n",
       "      <th>precision</th>\n",
       "      <th>accuracy</th>\n",
       "      <th>recall</th>\n",
       "      <th>f1_score</th>\n",
       "    </tr>\n",
       "  </thead>\n",
       "  <tbody>\n",
       "    <tr>\n",
       "      <th>0</th>\n",
       "      <td>0.950262</td>\n",
       "      <td>0.952645</td>\n",
       "      <td>0.950735</td>\n",
       "      <td>0.950385</td>\n",
       "    </tr>\n",
       "  </tbody>\n",
       "</table>\n",
       "</div>"
      ],
      "text/plain": [
       "   precision  accuracy    recall  f1_score\n",
       "0   0.950262  0.952645  0.950735  0.950385"
      ]
     },
     "execution_count": 7,
     "metadata": {},
     "output_type": "execute_result"
    }
   ],
   "source": [
    "#save metrics\n",
    "print(\"Saving metrics...\")\n",
    "df_metrics.to_csv('results/'+ 'df_metrics_KNTSC.csv', index=False)\n",
    "#save the model\n",
    "print(\"Saving model...\")\n",
    "dump(KNTSC_model, open('results/'+'KNTSC_model.pkl', 'wb'))\n",
    "print(\"Metrics of model:\")\n",
    "df_metrics"
   ]
  },
  {
   "cell_type": "code",
   "execution_count": 8,
   "id": "7a9dae08",
   "metadata": {},
   "outputs": [
    {
     "name": "stdout",
     "output_type": "stream",
     "text": [
      "GPU (s):\n"
     ]
    },
    {
     "name": "stderr",
     "output_type": "stream",
     "text": [
      "C:\\Users\\mlb\\AppData\\Local\\Temp/ipykernel_20960/3223071326.py:5: DeprecationWarning: `np.float` is a deprecated alias for the builtin `float`. To silence this warning, use `float` by itself. Doing this will not modify any behavior and is safe. If you specifically wanted the numpy scalar type, use `np.float64` here.\n",
      "Deprecated in NumPy 1.20; for more details and guidance: https://numpy.org/devdocs/release/1.20.0-notes.html#deprecations\n",
      "  res = pd.DataFrame(data=np.zeros((1, 4), dtype=np.float), index=[0],\n"
     ]
    },
    {
     "name": "stdout",
     "output_type": "stream",
     "text": [
      "['6' '5' '1' '1' '5']\n",
      "['6' '2' '3' '2' '1']\n",
      "Treining KNTSC...\n",
      "In prediction...\n"
     ]
    },
    {
     "name": "stderr",
     "output_type": "stream",
     "text": [
      "C:\\Users\\mlb\\AppData\\Local\\Temp/ipykernel_20960/3223071326.py:5: DeprecationWarning: `np.float` is a deprecated alias for the builtin `float`. To silence this warning, use `float` by itself. Doing this will not modify any behavior and is safe. If you specifically wanted the numpy scalar type, use `np.float64` here.\n",
      "Deprecated in NumPy 1.20; for more details and guidance: https://numpy.org/devdocs/release/1.20.0-notes.html#deprecations\n",
      "  res = pd.DataFrame(data=np.zeros((1, 4), dtype=np.float), index=[0],\n"
     ]
    },
    {
     "name": "stdout",
     "output_type": "stream",
     "text": [
      "['6' '5' '1' '1' '5']\n",
      "['6' '2' '3' '2' '1']\n",
      "Treining KNTSC...\n",
      "In prediction...\n"
     ]
    },
    {
     "name": "stderr",
     "output_type": "stream",
     "text": [
      "C:\\Users\\mlb\\AppData\\Local\\Temp/ipykernel_20960/3223071326.py:5: DeprecationWarning: `np.float` is a deprecated alias for the builtin `float`. To silence this warning, use `float` by itself. Doing this will not modify any behavior and is safe. If you specifically wanted the numpy scalar type, use `np.float64` here.\n",
      "Deprecated in NumPy 1.20; for more details and guidance: https://numpy.org/devdocs/release/1.20.0-notes.html#deprecations\n",
      "  res = pd.DataFrame(data=np.zeros((1, 4), dtype=np.float), index=[0],\n"
     ]
    },
    {
     "name": "stdout",
     "output_type": "stream",
     "text": [
      "['6' '5' '1' '1' '5']\n",
      "['6' '2' '3' '2' '1']\n",
      "Treining KNTSC...\n",
      "In prediction...\n"
     ]
    },
    {
     "name": "stderr",
     "output_type": "stream",
     "text": [
      "C:\\Users\\mlb\\AppData\\Local\\Temp/ipykernel_20960/3223071326.py:5: DeprecationWarning: `np.float` is a deprecated alias for the builtin `float`. To silence this warning, use `float` by itself. Doing this will not modify any behavior and is safe. If you specifically wanted the numpy scalar type, use `np.float64` here.\n",
      "Deprecated in NumPy 1.20; for more details and guidance: https://numpy.org/devdocs/release/1.20.0-notes.html#deprecations\n",
      "  res = pd.DataFrame(data=np.zeros((1, 4), dtype=np.float), index=[0],\n"
     ]
    },
    {
     "name": "stdout",
     "output_type": "stream",
     "text": [
      "['6' '5' '1' '1' '5']\n",
      "['6' '2' '3' '2' '1']\n",
      "Treining KNTSC...\n",
      "In prediction...\n"
     ]
    },
    {
     "name": "stderr",
     "output_type": "stream",
     "text": [
      "C:\\Users\\mlb\\AppData\\Local\\Temp/ipykernel_20960/3223071326.py:5: DeprecationWarning: `np.float` is a deprecated alias for the builtin `float`. To silence this warning, use `float` by itself. Doing this will not modify any behavior and is safe. If you specifically wanted the numpy scalar type, use `np.float64` here.\n",
      "Deprecated in NumPy 1.20; for more details and guidance: https://numpy.org/devdocs/release/1.20.0-notes.html#deprecations\n",
      "  res = pd.DataFrame(data=np.zeros((1, 4), dtype=np.float), index=[0],\n"
     ]
    },
    {
     "name": "stdout",
     "output_type": "stream",
     "text": [
      "['6' '5' '1' '1' '5']\n",
      "['6' '2' '3' '2' '1']\n",
      "Treining KNTSC...\n",
      "In prediction...\n"
     ]
    },
    {
     "name": "stderr",
     "output_type": "stream",
     "text": [
      "C:\\Users\\mlb\\AppData\\Local\\Temp/ipykernel_20960/3223071326.py:5: DeprecationWarning: `np.float` is a deprecated alias for the builtin `float`. To silence this warning, use `float` by itself. Doing this will not modify any behavior and is safe. If you specifically wanted the numpy scalar type, use `np.float64` here.\n",
      "Deprecated in NumPy 1.20; for more details and guidance: https://numpy.org/devdocs/release/1.20.0-notes.html#deprecations\n",
      "  res = pd.DataFrame(data=np.zeros((1, 4), dtype=np.float), index=[0],\n"
     ]
    },
    {
     "name": "stdout",
     "output_type": "stream",
     "text": [
      "['6' '5' '1' '1' '5']\n",
      "['6' '2' '3' '2' '1']\n",
      "Treining KNTSC...\n",
      "In prediction...\n"
     ]
    },
    {
     "name": "stderr",
     "output_type": "stream",
     "text": [
      "C:\\Users\\mlb\\AppData\\Local\\Temp/ipykernel_20960/3223071326.py:5: DeprecationWarning: `np.float` is a deprecated alias for the builtin `float`. To silence this warning, use `float` by itself. Doing this will not modify any behavior and is safe. If you specifically wanted the numpy scalar type, use `np.float64` here.\n",
      "Deprecated in NumPy 1.20; for more details and guidance: https://numpy.org/devdocs/release/1.20.0-notes.html#deprecations\n",
      "  res = pd.DataFrame(data=np.zeros((1, 4), dtype=np.float), index=[0],\n"
     ]
    },
    {
     "name": "stdout",
     "output_type": "stream",
     "text": [
      "['6' '5' '1' '1' '5']\n",
      "['6' '2' '3' '2' '1']\n",
      "Treining KNTSC...\n",
      "In prediction...\n"
     ]
    },
    {
     "name": "stderr",
     "output_type": "stream",
     "text": [
      "C:\\Users\\mlb\\AppData\\Local\\Temp/ipykernel_20960/3223071326.py:5: DeprecationWarning: `np.float` is a deprecated alias for the builtin `float`. To silence this warning, use `float` by itself. Doing this will not modify any behavior and is safe. If you specifically wanted the numpy scalar type, use `np.float64` here.\n",
      "Deprecated in NumPy 1.20; for more details and guidance: https://numpy.org/devdocs/release/1.20.0-notes.html#deprecations\n",
      "  res = pd.DataFrame(data=np.zeros((1, 4), dtype=np.float), index=[0],\n"
     ]
    },
    {
     "name": "stdout",
     "output_type": "stream",
     "text": [
      "['6' '5' '1' '1' '5']\n",
      "['6' '2' '3' '2' '1']\n",
      "Treining KNTSC...\n",
      "In prediction...\n"
     ]
    },
    {
     "name": "stderr",
     "output_type": "stream",
     "text": [
      "C:\\Users\\mlb\\AppData\\Local\\Temp/ipykernel_20960/3223071326.py:5: DeprecationWarning: `np.float` is a deprecated alias for the builtin `float`. To silence this warning, use `float` by itself. Doing this will not modify any behavior and is safe. If you specifically wanted the numpy scalar type, use `np.float64` here.\n",
      "Deprecated in NumPy 1.20; for more details and guidance: https://numpy.org/devdocs/release/1.20.0-notes.html#deprecations\n",
      "  res = pd.DataFrame(data=np.zeros((1, 4), dtype=np.float), index=[0],\n"
     ]
    },
    {
     "name": "stdout",
     "output_type": "stream",
     "text": [
      "['6' '5' '1' '1' '5']\n",
      "['6' '2' '3' '2' '1']\n",
      "Treining KNTSC...\n",
      "In prediction...\n"
     ]
    },
    {
     "name": "stderr",
     "output_type": "stream",
     "text": [
      "C:\\Users\\mlb\\AppData\\Local\\Temp/ipykernel_20960/3223071326.py:5: DeprecationWarning: `np.float` is a deprecated alias for the builtin `float`. To silence this warning, use `float` by itself. Doing this will not modify any behavior and is safe. If you specifically wanted the numpy scalar type, use `np.float64` here.\n",
      "Deprecated in NumPy 1.20; for more details and guidance: https://numpy.org/devdocs/release/1.20.0-notes.html#deprecations\n",
      "  res = pd.DataFrame(data=np.zeros((1, 4), dtype=np.float), index=[0],\n"
     ]
    },
    {
     "name": "stdout",
     "output_type": "stream",
     "text": [
      "['6' '5' '1' '1' '5']\n",
      "['6' '2' '3' '2' '1']\n",
      "Treining KNTSC...\n",
      "In prediction...\n",
      "383.6802126\n"
     ]
    }
   ],
   "source": [
    "print('GPU (s):')\n",
    "gpu_time = timeit.timeit('gpu()', number=10, setup=\"from __main__ import gpu\")\n",
    "print(gpu_time)"
   ]
  },
  {
   "cell_type": "code",
   "execution_count": null,
   "id": "076f1eff",
   "metadata": {},
   "outputs": [],
   "source": []
  },
  {
   "cell_type": "code",
   "execution_count": null,
   "id": "748420fb",
   "metadata": {},
   "outputs": [],
   "source": []
  }
 ],
 "metadata": {
  "kernelspec": {
   "display_name": "Python 3 (ipykernel)",
   "language": "python",
   "name": "python3"
  },
  "language_info": {
   "codemirror_mode": {
    "name": "ipython",
    "version": 3
   },
   "file_extension": ".py",
   "mimetype": "text/x-python",
   "name": "python",
   "nbconvert_exporter": "python",
   "pygments_lexer": "ipython3",
   "version": "3.9.7"
  }
 },
 "nbformat": 4,
 "nbformat_minor": 5
}
