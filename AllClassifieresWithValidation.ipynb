{
 "cells": [
  {
   "cell_type": "code",
   "execution_count": 1,
   "id": "aa9f2ad8",
   "metadata": {},
   "outputs": [],
   "source": [
    "#%pip install sktime==0.11.3"
   ]
  },
  {
   "cell_type": "code",
   "execution_count": 2,
   "id": "c9f46f60",
   "metadata": {},
   "outputs": [],
   "source": [
    "#%pip uninstall tensorflow"
   ]
  },
  {
   "cell_type": "code",
   "execution_count": 3,
   "id": "ab2674d2",
   "metadata": {},
   "outputs": [],
   "source": [
    "#%pip install tensorflow-estimator=2.1\n",
    "#%pip install tensorflow-gpu=2.1"
   ]
  },
  {
   "cell_type": "code",
   "execution_count": 4,
   "id": "3022fb57",
   "metadata": {},
   "outputs": [],
   "source": [
    "import numpy as np\n",
    "import pandas as pd\n",
    "import timeit\n",
    "from sklearn.model_selection import RepeatedKFold\n",
    "from sklearn.metrics import accuracy_score\n",
    "from sklearn.metrics import precision_score\n",
    "from sklearn.metrics import recall_score\n",
    "from sklearn.metrics import f1_score\n",
    "from sklearn.model_selection import cross_val_score\n",
    "from sklearn.model_selection import ShuffleSplit\n",
    "from sklearn.metrics import fbeta_score, make_scorer\n",
    "import tensorflow as tf\n",
    "from pickle import dump\n",
    "from sklearn.model_selection import KFold\n",
    "\n",
    "\n",
    "#Import Models\n",
    "from sktime.classification.hybrid import HIVECOTEV2\n",
    "from sktime.classification.hybrid import HIVECOTEV1\n",
    "from sktime.classification.dictionary_based import BOSSEnsemble\n",
    "from sktime.classification.interval_based import RandomIntervalSpectralEnsemble\n",
    "from sktime.classification.interval_based import TimeSeriesForestClassifier\n",
    "from sktime.classification.shapelet_based import ShapeletTransformClassifier\n",
    "from sktime._contrib.vector_classifiers._rotation_forest import RotationForest\n",
    "\n",
    "from sktime.classification.distance_based import KNeighborsTimeSeriesClassifier\n",
    "\n",
    "\n",
    "from sktime.datasets import load_from_arff_to_dataframe as load_arff\n",
    "#numpy.version.version"
   ]
  },
  {
   "cell_type": "code",
   "execution_count": 5,
   "id": "d2d5e773",
   "metadata": {},
   "outputs": [
    {
     "name": "stdout",
     "output_type": "stream",
     "text": [
      "The installed version of TensorFlow includes GPU support.\n"
     ]
    }
   ],
   "source": [
    "if tf.test.is_built_with_cuda():\n",
    "    print(\"The installed version of TensorFlow includes GPU support.\")\n",
    "else:\n",
    "    print(\"The installed version of TensorFlow does not include GPU support.\")"
   ]
  },
  {
   "cell_type": "code",
   "execution_count": 6,
   "id": "54219d2a",
   "metadata": {},
   "outputs": [
    {
     "name": "stdout",
     "output_type": "stream",
     "text": [
      "WARNING:tensorflow:From C:\\Users\\mlb\\AppData\\Local\\Temp/ipykernel_7544/565982385.py:1: is_gpu_available (from tensorflow.python.framework.test_util) is deprecated and will be removed in a future version.\n",
      "Instructions for updating:\n",
      "Use `tf.config.list_physical_devices('GPU')` instead.\n"
     ]
    },
    {
     "data": {
      "text/plain": [
       "True"
      ]
     },
     "execution_count": 6,
     "metadata": {},
     "output_type": "execute_result"
    }
   ],
   "source": [
    "tf.test.is_gpu_available(cuda_only=False, min_cuda_compute_capability=None)"
   ]
  },
  {
   "cell_type": "code",
   "execution_count": 7,
   "id": "7a2afe79",
   "metadata": {},
   "outputs": [
    {
     "data": {
      "text/plain": [
       "[PhysicalDevice(name='/physical_device:GPU:0', device_type='GPU')]"
      ]
     },
     "execution_count": 7,
     "metadata": {},
     "output_type": "execute_result"
    }
   ],
   "source": [
    "tf.config.list_physical_devices('GPU')"
   ]
  },
  {
   "cell_type": "markdown",
   "id": "42df4c35",
   "metadata": {},
   "source": [
    "# Rocket Classifier code"
   ]
  },
  {
   "cell_type": "code",
   "execution_count": 8,
   "id": "870b1678",
   "metadata": {},
   "outputs": [
    {
     "name": "stdout",
     "output_type": "stream",
     "text": [
      "Requirement already satisfied: tsai in d:\\pessoais\\anacondafiles\\envs\\teste_with_gpu\\lib\\site-packages (0.3.1)\n",
      "Requirement already satisfied: fastai>=2.5.6 in d:\\pessoais\\anacondafiles\\envs\\teste_with_gpu\\lib\\site-packages (from tsai) (2.6.3)\n",
      "Requirement already satisfied: psutil>=5.4.8 in d:\\pessoais\\anacondafiles\\envs\\teste_with_gpu\\lib\\site-packages (from tsai) (5.9.0)\n",
      "Requirement already satisfied: pyts>=0.12.0 in d:\\pessoais\\anacondafiles\\envs\\teste_with_gpu\\lib\\site-packages (from tsai) (0.12.0)\n",
      "Requirement already satisfied: nbformat>=5.1.3 in d:\\pessoais\\anacondafiles\\envs\\teste_with_gpu\\lib\\site-packages (from tsai) (5.1.3)\n",
      "Requirement already satisfied: imbalanced-learn>=0.8.0 in d:\\pessoais\\anacondafiles\\envs\\teste_with_gpu\\lib\\site-packages (from tsai) (0.9.0)\n",
      "Requirement already satisfied: packaging in d:\\pessoais\\anacondafiles\\envs\\teste_with_gpu\\lib\\site-packages (from tsai) (21.3)\n",
      "Requirement already satisfied: pip in d:\\pessoais\\anacondafiles\\envs\\teste_with_gpu\\lib\\site-packages (from tsai) (21.2.4)\n",
      "Requirement already satisfied: torch<1.12,>=1.7.0 in d:\\pessoais\\anacondafiles\\envs\\teste_with_gpu\\lib\\site-packages (from tsai) (1.11.0)\n",
      "Requirement already satisfied: pandas in d:\\pessoais\\anacondafiles\\envs\\teste_with_gpu\\lib\\site-packages (from fastai>=2.5.6->tsai) (1.4.1)\n",
      "Requirement already satisfied: matplotlib in d:\\pessoais\\anacondafiles\\envs\\teste_with_gpu\\lib\\site-packages (from fastai>=2.5.6->tsai) (3.5.1)\n",
      "Requirement already satisfied: fastdownload<2,>=0.0.5 in d:\\pessoais\\anacondafiles\\envs\\teste_with_gpu\\lib\\site-packages (from fastai>=2.5.6->tsai) (0.0.6)\n",
      "Requirement already satisfied: fastcore<1.5,>=1.3.27 in d:\\pessoais\\anacondafiles\\envs\\teste_with_gpu\\lib\\site-packages (from fastai>=2.5.6->tsai) (1.4.3)\n",
      "Requirement already satisfied: requests in d:\\pessoais\\anacondafiles\\envs\\teste_with_gpu\\lib\\site-packages (from fastai>=2.5.6->tsai) (2.27.1)\n",
      "Requirement already satisfied: fastprogress>=0.2.4 in d:\\pessoais\\anacondafiles\\envs\\teste_with_gpu\\lib\\site-packages (from fastai>=2.5.6->tsai) (1.0.2)\n",
      "Requirement already satisfied: pillow>6.0.0 in d:\\pessoais\\anacondafiles\\envs\\teste_with_gpu\\lib\\site-packages (from fastai>=2.5.6->tsai) (9.0.1)\n",
      "Requirement already satisfied: scipy in d:\\pessoais\\anacondafiles\\envs\\teste_with_gpu\\lib\\site-packages (from fastai>=2.5.6->tsai) (1.7.3)\n",
      "Requirement already satisfied: torchvision>=0.8.2 in d:\\pessoais\\anacondafiles\\envs\\teste_with_gpu\\lib\\site-packages (from fastai>=2.5.6->tsai) (0.12.0)\n",
      "Requirement already satisfied: pyyaml in d:\\pessoais\\anacondafiles\\envs\\teste_with_gpu\\lib\\site-packages (from fastai>=2.5.6->tsai) (6.0)\n",
      "Requirement already satisfied: scikit-learn in d:\\pessoais\\anacondafiles\\envs\\teste_with_gpu\\lib\\site-packages (from fastai>=2.5.6->tsai) (1.0.2)\n",
      "Requirement already satisfied: spacy<4 in d:\\pessoais\\anacondafiles\\envs\\teste_with_gpu\\lib\\site-packages (from fastai>=2.5.6->tsai) (3.3.0)\n",
      "Requirement already satisfied: numpy>=1.14.6 in d:\\pessoais\\anacondafiles\\envs\\teste_with_gpu\\lib\\site-packages (from imbalanced-learn>=0.8.0->tsai) (1.21.5)\n",
      "Requirement already satisfied: joblib>=0.11 in d:\\pessoais\\anacondafiles\\envs\\teste_with_gpu\\lib\\site-packages (from imbalanced-learn>=0.8.0->tsai) (1.1.0)\n",
      "Note: you may need to restart the kernel to use updated packages.\n"
     ]
    },
    {
     "name": "stderr",
     "output_type": "stream",
     "text": [
      "WARNING: Ignoring invalid distribution -ktime (d:\\pessoais\\anacondafiles\\envs\\teste_with_gpu\\lib\\site-packages)\n",
      "WARNING: Ignoring invalid distribution -ktime (d:\\pessoais\\anacondafiles\\envs\\teste_with_gpu\\lib\\site-packages)\n",
      "WARNING: Ignoring invalid distribution -ktime (d:\\pessoais\\anacondafiles\\envs\\teste_with_gpu\\lib\\site-packages)\n",
      "WARNING: Ignoring invalid distribution -ktime (d:\\pessoais\\anacondafiles\\envs\\teste_with_gpu\\lib\\site-packages)\n",
      "WARNING: Ignoring invalid distribution -ktime (d:\\pessoais\\anacondafiles\\envs\\teste_with_gpu\\lib\\site-packages)\n",
      "WARNING: Ignoring invalid distribution -ktime (d:\\pessoais\\anacondafiles\\envs\\teste_with_gpu\\lib\\site-packages)\n"
     ]
    },
    {
     "name": "stdout",
     "output_type": "stream",
     "text": [
      "Requirement already satisfied: threadpoolctl>=2.0.0 in d:\\pessoais\\anacondafiles\\envs\\teste_with_gpu\\lib\\site-packages (from imbalanced-learn>=0.8.0->tsai) (3.1.0)\n",
      "Requirement already satisfied: ipython-genutils in d:\\pessoais\\anacondafiles\\envs\\teste_with_gpu\\lib\\site-packages (from nbformat>=5.1.3->tsai) (0.2.0)\n",
      "Requirement already satisfied: traitlets>=4.1 in d:\\pessoais\\anacondafiles\\envs\\teste_with_gpu\\lib\\site-packages (from nbformat>=5.1.3->tsai) (5.1.1)\n",
      "Requirement already satisfied: jsonschema!=2.5.0,>=2.4 in d:\\pessoais\\anacondafiles\\envs\\teste_with_gpu\\lib\\site-packages (from nbformat>=5.1.3->tsai) (3.2.0)\n",
      "Requirement already satisfied: jupyter-core in d:\\pessoais\\anacondafiles\\envs\\teste_with_gpu\\lib\\site-packages (from nbformat>=5.1.3->tsai) (4.9.1)\n",
      "Requirement already satisfied: six>=1.11.0 in d:\\pessoais\\anacondafiles\\envs\\teste_with_gpu\\lib\\site-packages (from jsonschema!=2.5.0,>=2.4->nbformat>=5.1.3->tsai) (1.16.0)\n",
      "Requirement already satisfied: attrs>=17.4.0 in d:\\pessoais\\anacondafiles\\envs\\teste_with_gpu\\lib\\site-packages (from jsonschema!=2.5.0,>=2.4->nbformat>=5.1.3->tsai) (21.4.0)\n",
      "Requirement already satisfied: setuptools in d:\\pessoais\\anacondafiles\\envs\\teste_with_gpu\\lib\\site-packages (from jsonschema!=2.5.0,>=2.4->nbformat>=5.1.3->tsai) (58.0.4)\n",
      "Requirement already satisfied: pyrsistent>=0.14.0 in d:\\pessoais\\anacondafiles\\envs\\teste_with_gpu\\lib\\site-packages (from jsonschema!=2.5.0,>=2.4->nbformat>=5.1.3->tsai) (0.18.0)\n",
      "Requirement already satisfied: numba>=0.48.0 in d:\\pessoais\\anacondafiles\\envs\\teste_with_gpu\\lib\\site-packages (from pyts>=0.12.0->tsai) (0.53.0)\n",
      "Requirement already satisfied: llvmlite<0.37,>=0.36.0rc1 in d:\\pessoais\\anacondafiles\\envs\\teste_with_gpu\\lib\\site-packages (from numba>=0.48.0->pyts>=0.12.0->tsai) (0.36.0)\n",
      "Requirement already satisfied: preshed<3.1.0,>=3.0.2 in d:\\pessoais\\anacondafiles\\envs\\teste_with_gpu\\lib\\site-packages (from spacy<4->fastai>=2.5.6->tsai) (3.0.6)\n",
      "Requirement already satisfied: srsly<3.0.0,>=2.4.3 in d:\\pessoais\\anacondafiles\\envs\\teste_with_gpu\\lib\\site-packages (from spacy<4->fastai>=2.5.6->tsai) (2.4.3)\n",
      "Requirement already satisfied: tqdm<5.0.0,>=4.38.0 in d:\\pessoais\\anacondafiles\\envs\\teste_with_gpu\\lib\\site-packages (from spacy<4->fastai>=2.5.6->tsai) (4.63.1)\n",
      "Requirement already satisfied: jinja2 in d:\\pessoais\\anacondafiles\\envs\\teste_with_gpu\\lib\\site-packages (from spacy<4->fastai>=2.5.6->tsai) (3.0.2)\n",
      "Requirement already satisfied: typer<0.5.0,>=0.3.0 in d:\\pessoais\\anacondafiles\\envs\\teste_with_gpu\\lib\\site-packages (from spacy<4->fastai>=2.5.6->tsai) (0.4.1)\n",
      "Requirement already satisfied: langcodes<4.0.0,>=3.2.0 in d:\\pessoais\\anacondafiles\\envs\\teste_with_gpu\\lib\\site-packages (from spacy<4->fastai>=2.5.6->tsai) (3.3.0)\n",
      "Requirement already satisfied: catalogue<2.1.0,>=2.0.6 in d:\\pessoais\\anacondafiles\\envs\\teste_with_gpu\\lib\\site-packages (from spacy<4->fastai>=2.5.6->tsai) (2.0.7)\n",
      "Requirement already satisfied: pydantic!=1.8,!=1.8.1,<1.9.0,>=1.7.4 in d:\\pessoais\\anacondafiles\\envs\\teste_with_gpu\\lib\\site-packages (from spacy<4->fastai>=2.5.6->tsai) (1.8.2)\n",
      "Requirement already satisfied: pathy>=0.3.5 in d:\\pessoais\\anacondafiles\\envs\\teste_with_gpu\\lib\\site-packages (from spacy<4->fastai>=2.5.6->tsai) (0.6.1)\n",
      "Requirement already satisfied: spacy-loggers<2.0.0,>=1.0.0 in d:\\pessoais\\anacondafiles\\envs\\teste_with_gpu\\lib\\site-packages (from spacy<4->fastai>=2.5.6->tsai) (1.0.2)\n",
      "Requirement already satisfied: thinc<8.1.0,>=8.0.14 in d:\\pessoais\\anacondafiles\\envs\\teste_with_gpu\\lib\\site-packages (from spacy<4->fastai>=2.5.6->tsai) (8.0.17)\n",
      "Requirement already satisfied: murmurhash<1.1.0,>=0.28.0 in d:\\pessoais\\anacondafiles\\envs\\teste_with_gpu\\lib\\site-packages (from spacy<4->fastai>=2.5.6->tsai) (1.0.7)\n",
      "Requirement already satisfied: wasabi<1.1.0,>=0.9.1 in d:\\pessoais\\anacondafiles\\envs\\teste_with_gpu\\lib\\site-packages (from spacy<4->fastai>=2.5.6->tsai) (0.9.1)\n",
      "Requirement already satisfied: blis<0.8.0,>=0.4.0 in d:\\pessoais\\anacondafiles\\envs\\teste_with_gpu\\lib\\site-packages (from spacy<4->fastai>=2.5.6->tsai) (0.7.7)\n",
      "Requirement already satisfied: cymem<2.1.0,>=2.0.2 in d:\\pessoais\\anacondafiles\\envs\\teste_with_gpu\\lib\\site-packages (from spacy<4->fastai>=2.5.6->tsai) (2.0.6)\n",
      "Requirement already satisfied: spacy-legacy<3.1.0,>=3.0.9 in d:\\pessoais\\anacondafiles\\envs\\teste_with_gpu\\lib\\site-packages (from spacy<4->fastai>=2.5.6->tsai) (3.0.9)\n",
      "Requirement already satisfied: pyparsing!=3.0.5,>=2.0.2 in d:\\pessoais\\anacondafiles\\envs\\teste_with_gpu\\lib\\site-packages (from packaging->tsai) (3.0.4)\n",
      "Requirement already satisfied: smart-open<6.0.0,>=5.0.0 in d:\\pessoais\\anacondafiles\\envs\\teste_with_gpu\\lib\\site-packages (from pathy>=0.3.5->spacy<4->fastai>=2.5.6->tsai) (5.2.1)\n",
      "Requirement already satisfied: typing-extensions>=3.7.4.3 in d:\\pessoais\\anacondafiles\\envs\\teste_with_gpu\\lib\\site-packages (from pydantic!=1.8,!=1.8.1,<1.9.0,>=1.7.4->spacy<4->fastai>=2.5.6->tsai) (3.10.0.2)\n",
      "Requirement already satisfied: charset-normalizer~=2.0.0 in d:\\pessoais\\anacondafiles\\envs\\teste_with_gpu\\lib\\site-packages (from requests->fastai>=2.5.6->tsai) (2.0.4)\n",
      "Requirement already satisfied: idna<4,>=2.5 in d:\\pessoais\\anacondafiles\\envs\\teste_with_gpu\\lib\\site-packages (from requests->fastai>=2.5.6->tsai) (3.3)\n",
      "Requirement already satisfied: urllib3<1.27,>=1.21.1 in d:\\pessoais\\anacondafiles\\envs\\teste_with_gpu\\lib\\site-packages (from requests->fastai>=2.5.6->tsai) (1.26.8)\n",
      "Requirement already satisfied: certifi>=2017.4.17 in d:\\pessoais\\anacondafiles\\envs\\teste_with_gpu\\lib\\site-packages (from requests->fastai>=2.5.6->tsai) (2021.10.8)\n",
      "Requirement already satisfied: colorama in d:\\pessoais\\anacondafiles\\envs\\teste_with_gpu\\lib\\site-packages (from tqdm<5.0.0,>=4.38.0->spacy<4->fastai>=2.5.6->tsai) (0.4.4)\n",
      "Requirement already satisfied: click<9.0.0,>=7.1.1 in d:\\pessoais\\anacondafiles\\envs\\teste_with_gpu\\lib\\site-packages (from typer<0.5.0,>=0.3.0->spacy<4->fastai>=2.5.6->tsai) (8.0.4)\n",
      "Requirement already satisfied: MarkupSafe>=2.0 in d:\\pessoais\\anacondafiles\\envs\\teste_with_gpu\\lib\\site-packages (from jinja2->spacy<4->fastai>=2.5.6->tsai) (2.0.1)\n",
      "Requirement already satisfied: pywin32>=1.0 in d:\\pessoais\\anacondafiles\\envs\\teste_with_gpu\\lib\\site-packages (from jupyter-core->nbformat>=5.1.3->tsai) (302)\n",
      "Requirement already satisfied: cycler>=0.10 in d:\\pessoais\\anacondafiles\\envs\\teste_with_gpu\\lib\\site-packages (from matplotlib->fastai>=2.5.6->tsai) (0.11.0)\n",
      "Requirement already satisfied: fonttools>=4.22.0 in d:\\pessoais\\anacondafiles\\envs\\teste_with_gpu\\lib\\site-packages (from matplotlib->fastai>=2.5.6->tsai) (4.30.0)\n",
      "Requirement already satisfied: kiwisolver>=1.0.1 in d:\\pessoais\\anacondafiles\\envs\\teste_with_gpu\\lib\\site-packages (from matplotlib->fastai>=2.5.6->tsai) (1.3.2)\n",
      "Requirement already satisfied: python-dateutil>=2.7 in d:\\pessoais\\anacondafiles\\envs\\teste_with_gpu\\lib\\site-packages (from matplotlib->fastai>=2.5.6->tsai) (2.8.2)\n",
      "Requirement already satisfied: pytz>=2020.1 in d:\\pessoais\\anacondafiles\\envs\\teste_with_gpu\\lib\\site-packages (from pandas->fastai>=2.5.6->tsai) (2022.1)\n"
     ]
    }
   ],
   "source": [
    "%pip install tsai"
   ]
  },
  {
   "cell_type": "code",
   "execution_count": 9,
   "id": "78d5dbd2",
   "metadata": {},
   "outputs": [],
   "source": [
    "#%pip install sklearn --upgrade"
   ]
  },
  {
   "cell_type": "code",
   "execution_count": 10,
   "id": "7bd6b282",
   "metadata": {},
   "outputs": [
    {
     "name": "stderr",
     "output_type": "stream",
     "text": [
      "D:\\Pessoais\\AnacondaFiles\\envs\\teste_with_gpu\\lib\\site-packages\\tqdm\\auto.py:22: TqdmWarning: IProgress not found. Please update jupyter and ipywidgets. See https://ipywidgets.readthedocs.io/en/stable/user_install.html\n",
      "  from .autonotebook import tqdm as notebook_tqdm\n"
     ]
    }
   ],
   "source": [
    "import sklearn\n",
    "from sklearn.linear_model import RidgeClassifierCV, RidgeCV\n",
    "from sklearn.metrics import make_scorer\n",
    "from tsai.imports import *\n",
    "from tsai.data.external import *\n",
    "from tsai.models.layers import *"
   ]
  },
  {
   "cell_type": "code",
   "execution_count": 11,
   "id": "4e9efa48",
   "metadata": {},
   "outputs": [],
   "source": [
    "#export\n",
    "class RocketClassifier(sklearn.pipeline.Pipeline):\n",
    "    \"\"\"Time series classification using ROCKET features and a linear classifier\"\"\"\n",
    "    \n",
    "    def __init__(self, num_kernels=10_000, normalize_input=True, random_state=None, \n",
    "                 alphas=np.logspace(-3, 3, 7), normalize_features=True, memory=None, verbose=False, scoring=None, class_weight=None, **kwargs):\n",
    "        \"\"\"\n",
    "        RocketClassifier is recommended for up to 10k time series. \n",
    "        For a larger dataset, you can use ROCKET (in Pytorch).\n",
    "        scoring = None --> defaults to accuracy.\n",
    "        \n",
    "        Rocket args:            \n",
    "            num_kernels     : int, number of random convolutional kernels (default 10,000)\n",
    "            normalize_input : boolean, whether or not to normalise the input time series per instance (default True)\n",
    "            random_state    : Optional random seed (default None)\n",
    "\n",
    "        \"\"\"\n",
    "        try: \n",
    "            import sktime\n",
    "            from sktime.transformations.panel.rocket import Rocket\n",
    "        except ImportError:\n",
    "            print(\"You need to install sktime to be able to use RocketClassifier\")\n",
    "            \n",
    "        self.steps = [('rocket', Rocket(num_kernels=num_kernels, normalise=normalize_input, random_state=random_state)),\n",
    "                      ('ridgeclassifiercv', RidgeClassifierCV(alphas=alphas, normalize=normalize_features, scoring=scoring, \n",
    "                                                              class_weight=class_weight, **kwargs))]\n",
    "        store_attr()\n",
    "        self._validate_steps()\n",
    "\n",
    "    def __repr__(self):  \n",
    "        return f'Pipeline(steps={self.steps.copy()})'\n",
    "\n",
    "    def save(self, fname='Rocket', path='./models'):\n",
    "        path = Path(path)\n",
    "        filename = path/fname\n",
    "        with open(f'{filename}.pkl', 'wb') as output:\n",
    "            pickle.dump(self, output, pickle.HIGHEST_PROTOCOL)"
   ]
  },
  {
   "cell_type": "code",
   "execution_count": 12,
   "id": "bdcc2127",
   "metadata": {},
   "outputs": [],
   "source": [
    "#export\n",
    "def load_rocket(fname='Rocket', path='./models'):\n",
    "    path = Path(path)\n",
    "    filename = path/fname\n",
    "    with open(f'{filename}.pkl', 'rb') as input:\n",
    "        output = pickle.load(input)\n",
    "    return output"
   ]
  },
  {
   "cell_type": "code",
   "execution_count": 13,
   "id": "b58bb0cf",
   "metadata": {},
   "outputs": [
    {
     "name": "stdout",
     "output_type": "stream",
     "text": [
      "Found GPU at: /device:GPU:0\n"
     ]
    }
   ],
   "source": [
    "device_name = tf.test.gpu_device_name()\n",
    "if device_name != '/device:GPU:0':\n",
    "  raise SystemError('GPU device not found')\n",
    "print('Found GPU at: {}'.format(device_name))"
   ]
  },
  {
   "cell_type": "code",
   "execution_count": 14,
   "id": "f5b5e22e",
   "metadata": {},
   "outputs": [],
   "source": [
    "device_name = tf.test.gpu_device_name()\n",
    "if device_name != '/device:GPU:0':\n",
    "  print(\n",
    "      '\\n\\nThis error most likely means that this notebook is not '\n",
    "      'configured to use a GPU.  Change this in Notebook Settings via the '\n",
    "      'command palette (cmd/ctrl-shift-P) or the Edit menu.\\n\\n')\n",
    "  raise SystemError('GPU device not found')"
   ]
  },
  {
   "cell_type": "code",
   "execution_count": 15,
   "id": "5dab6777",
   "metadata": {},
   "outputs": [],
   "source": [
    "def create_dt_metrics():\n",
    "#     columns = ['BOSSEnsemble','KNeighborsTimeSeriesClassifier','ShapeletTransformClassifier',\n",
    "#                                     'TimeSeriesForestClassifier','HIVECOTE1','HIVECOTE2','RISE',\n",
    "#                                     'ROCKET']\n",
    "    columns = ['BOSSEnsemble']\n",
    "    df_precision = pd.DataFrame(data= None,\n",
    "                           columns=columns)\n",
    "    df_accuracy  = pd.DataFrame(data= None,\n",
    "                           columns=columns)\n",
    "    df_f1        = pd.DataFrame(data= None,\n",
    "                           columns=columns)\n",
    "    df_recall    = pd.DataFrame(data= None,\n",
    "                           columns=columns)\n",
    "    df_std       = pd.DataFrame(data= None,\n",
    "                           columns=columns)\n",
    "    return df_precision, df_accuracy, df_f1, df_recall, df_std"
   ]
  },
  {
   "cell_type": "code",
   "execution_count": 16,
   "id": "789facf8",
   "metadata": {},
   "outputs": [],
   "source": [
    "def populate_df_metrics(precision, accuracy, f1, recall):\n",
    "    print(f\"Precision in populate_df_metrics: {precision}\")\n",
    "    df_precision = df_precision.append(precision, ignore_index=True)\n",
    "    print(f\"Df precision after append: {df_precision}\")\n",
    "    df_accuracy.append(pd.DataFrame(accuracy))\n",
    "    df_f1.append(pd.DataFrame(f1))\n",
    "    df_recall.append(pd.DataFrame(recall))\n",
    "    #return df_precision, df_accuracy, df_f1, df_recall\n",
    "  \n",
    "def save_std(df_accuracy,df_std):\n",
    "    for row in df_accuracy:\n",
    "        df_std[row] = np.std(df_accuracy[row])\n",
    "        print(f\"STD COL: {df_std[row]}\")\n",
    "    print(f\"STD antes do %save: {df_std}\")\n",
    "    df_std.to_csv(\"results4/\" + 'df_all_std.csv', index=False)\n",
    "    print(f\"Save STD: {df_std}\")"
   ]
  },
  {
   "cell_type": "code",
   "execution_count": 17,
   "id": "83e9d63e",
   "metadata": {},
   "outputs": [],
   "source": [
    "def create_models(models):\n",
    "    #     max_ensemble_size=50, max_ensemble_size=3, max_ensemble_size=100\n",
    "    #     DICA: Geralmente, o max_win_len_prop é o dobro do min_window\n",
    "    models.append(('BOSSEnsemble',BOSSEnsemble(max_ensemble_size=50, min_window =9, max_win_len_prop=18)))\n",
    "    \n",
    "#     #   n_neighbors=1, n_neighbors=5, n_neighbors=10\n",
    "#     models.append(('KNeighborsTimeSeriesClassifier',KNeighborsTimeSeriesClassifier(n_neighbors=5)))\n",
    "\n",
    "#     #     n_estimators=200, n_estimators=6, n_estimators=400     \n",
    "#     models.append(('ShapeletTransformClassifier',ShapeletTransformClassifier(\n",
    "#         estimator=RotationForest(n_estimators=200),\n",
    "#         n_shapelet_samples=500,\n",
    "#         max_shapelets=20,\n",
    "#         batch_size=100,\n",
    "#     )))\n",
    "    \n",
    "# #     n_estimators=200, n_estimators=6, n_estimators=400   \n",
    "#     models.append(('TimeSeriesForestClassifier',TimeSeriesForestClassifier(n_estimators=6)))\n",
    "\n",
    "# #     n_estimators=3, n_estimators=200, n_estimators=400    \n",
    "#     models.append(('HIVECOTE1',HIVECOTEV1(\n",
    "#                 stc_params={\n",
    "#                     \"estimator\": RotationForest(n_estimators=200),\n",
    "#                     \"n_shapelet_samples\": 100,\n",
    "#                     \"max_shapelets\": 10,\n",
    "#                     \"batch_size\": 20,\n",
    "#                 },\n",
    "#                 tsf_params={\"n_estimators\": 200},\n",
    "#                 rise_params={\"n_estimators\":200},\n",
    "#                 cboss_params={\"n_parameter_samples\":1, \"max_ensemble_size\": 1, \"min_window\":1, \"max_win_len_prop\":1},\n",
    "#                 verbose=10\n",
    "#             )))\n",
    "    \n",
    "#  #     n_estimators=3, n_estimators=200, n_estimators=400    \n",
    "#     models.append(('HIVECOTE2',HIVECOTEV2(\n",
    "#         stc_params={\n",
    "#             \"estimator\": RotationForest(n_estimators=200),\n",
    "#             \"n_shapelet_samples\": 100,\n",
    "#             \"max_shapelets\": 10,\n",
    "#             \"batch_size\": 20,\n",
    "#         },\n",
    "#         drcif_params={\"n_estimators\": 50, \"n_intervals\": 2, \"att_subsample_size\": 2},\n",
    "#         arsenal_params={\"num_kernels\": 50, \"n_estimators\": 50},\n",
    "#         tde_params={\n",
    "#             \"n_parameter_samples\": 10,\n",
    "#             \"max_ensemble_size\": 3,\n",
    "#             \"randomly_selected_params\": 5,\n",
    "#             \"max_win_len_prop\":2,\n",
    "#             \"min_window\":1,\n",
    "#         },\n",
    "#         verbose=10\n",
    "#     )))\n",
    "    \n",
    "# #     n_estimators=50, n_estimators=3, n_estimators=100 \n",
    "#     models.append(('RISE',RandomIntervalSpectralEnsemble(n_estimators=200)))\n",
    "\n",
    "# #     num_kernels=10000, num_kernels=5000, num_kernels=20000 \n",
    "#     models.append(('ROCKET',RocketClassifier(num_kernels=5000)))\n",
    "    return models"
   ]
  },
  {
   "cell_type": "code",
   "execution_count": 18,
   "id": "bfdb2d10",
   "metadata": {},
   "outputs": [],
   "source": [
    "#save metrics\n",
    "def save_results(df_to_save, name, model, train_val_test):\n",
    "    #save the model\n",
    "    print(\"Saving model...\")\n",
    "    dump(model, open('results4/'+name+'_'+train_val_test+'_model.pkl', 'wb'))\n",
    "    print(\"Saving metrics...\")\n",
    "    print(f\"Df accuracy: {df_to_save}\")\n",
    "    df_to_save.to_csv(\"results4/\" + 'df_'+name+'_'+train_val_test+'.csv', index=False)\n",
    "    print(\"Accuracy of models:\")\n",
    "    print(df_to_save)"
   ]
  },
  {
   "cell_type": "code",
   "execution_count": 19,
   "id": "aff5c8cb",
   "metadata": {},
   "outputs": [
    {
     "name": "stdout",
     "output_type": "stream",
     "text": [
      "10892\n",
      "2042\n"
     ]
    }
   ],
   "source": [
    "import copy\n",
    "from sklearn.model_selection import cross_validate\n",
    "from sklearn.model_selection import KFold\n",
    "from sklearn.model_selection import train_test_split\n",
    "kf = RepeatedKFold(n_splits=5, n_repeats=2, random_state=42)\n",
    "X_train, y_train = load_arff(\"AllCandidas_TRAIN_V3.arff\")\n",
    "X_val, y_val = load_arff(\"AllCandidas_VAL_V3.arff\")\n",
    "print(len(X_train))\n",
    "print(len(X_val))\n",
    "#X_train1, X_val, y_train1, y_val = train_test_split(X, y, test_size=0.2, random_state=42)\n",
    "#X_train, X_val, y_train, y_val = train_test_split(X, y, test_size=0.2, random_state=42)\n",
    "models =  []\n",
    "models = create_models(models)\n",
    "def gpu(X, y, kf, models):\n",
    "    scoring = ['accuracy','precision_macro', 'recall_macro','f1_macro']\n",
    "    df_precision, df_accuracy, df_f1, df_recall, df_std = create_dt_metrics()\n",
    "    with tf.device('/device:GPU:0'):\n",
    "        i= 0\n",
    "        df_precision, df_accuracy, df_f1, df_recall, df_std = create_dt_metrics()\n",
    "        print(f\"Quantidade de modelos {len(models)}\")\n",
    "        for name, model in models:\n",
    "            print(f\"Treining {name}...\")\n",
    "            print(\"In trainning...\")\n",
    "            model.fit(X_train, y_train)\n",
    "            print(\"In prediction...\")\n",
    "            df_train = cross_validate(model, X_train, y_train, cv=kf, scoring=scoring,return_train_score=True)\n",
    "            print(\"Finished prediction!\")\n",
    "            print(df_train.keys())\n",
    "            save_results(pd.DataFrame(df_train),name, model,'train2')\n",
    "            print(\"***********\")\n",
    "            print(\"score val\")\n",
    "            print()\n",
    "            df_validation = cross_validate(model, X_val, y_val, cv=kf, scoring=scoring)\n",
    "            print(df_validation.keys())\n",
    "            save_results(pd.DataFrame(df_validation), name, model,'val2')\n"
   ]
  },
  {
   "cell_type": "code",
   "execution_count": null,
   "id": "3e90105b",
   "metadata": {},
   "outputs": [
    {
     "name": "stdout",
     "output_type": "stream",
     "text": [
      "Using MirroredStrategy\n",
      "INFO:tensorflow:Using MirroredStrategy with devices ('/job:localhost/replica:0/task:0/device:GPU:0',)\n",
      "MirroredVariable:{\n",
      "  0: <tf.Variable 'Variable:0' shape=() dtype=float32, numpy=1.0>\n",
      "}\n",
      "Quantidade de modelos 1\n",
      "Treining BOSSEnsemble...\n",
      "In trainning...\n",
      "In prediction...\n"
     ]
    }
   ],
   "source": [
    "if tf.config.list_physical_devices('GPU'):\n",
    "    print(\"Using MirroredStrategy\")\n",
    "    strategy = tf.distribute.MirroredStrategy()\n",
    "else:  # Use the Default Strategy\n",
    "    print(\"Using Default Strategy\")\n",
    "    strategy = tf.distribute.get_strategy()\n",
    "with strategy.scope():\n",
    "    # Do something interesting\n",
    "    print(tf.Variable(1.))\n",
    "    gpu(X_train,y_train,kf,models)"
   ]
  },
  {
   "cell_type": "markdown",
   "id": "a1bcd115",
   "metadata": {},
   "source": [
    "### Executar isso só no final"
   ]
  },
  {
   "cell_type": "code",
   "execution_count": null,
   "id": "d93cd4b8",
   "metadata": {},
   "outputs": [],
   "source": [
    "def test_final_model(X_test, y_test, models):\n",
    "    scoring = ['accuracy','precision_macro', 'recall_macro','f1_macro']\n",
    "    for name, model in models:\n",
    "        df_test = cross_validate(model, X_test, y_test, cv=kf, scoring=scoring)\n",
    "        print(df_test.keys())\n",
    "        save_results(pd.DataFrame(df_test),name, model,'test')\n",
    "        print(\"Finished test!\")"
   ]
  },
  {
   "cell_type": "code",
   "execution_count": null,
   "id": "a1bc8ca2",
   "metadata": {},
   "outputs": [],
   "source": [
    "X_test, y_test = load_arff(\"AllCandidas_TEST_V3.arff\")\n",
    "print(len(X_test))\n",
    "#test_final_model(X_test,y_test,models) #Executar isso só no final"
   ]
  },
  {
   "cell_type": "code",
   "execution_count": null,
   "id": "b671f378",
   "metadata": {},
   "outputs": [],
   "source": []
  }
 ],
 "metadata": {
  "kernelspec": {
   "display_name": "Python 3 (ipykernel)",
   "language": "python",
   "name": "python3"
  },
  "language_info": {
   "codemirror_mode": {
    "name": "ipython",
    "version": 3
   },
   "file_extension": ".py",
   "mimetype": "text/x-python",
   "name": "python",
   "nbconvert_exporter": "python",
   "pygments_lexer": "ipython3",
   "version": "3.9.7"
  }
 },
 "nbformat": 4,
 "nbformat_minor": 5
}
